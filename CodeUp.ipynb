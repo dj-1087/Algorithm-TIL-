{
  "nbformat": 4,
  "nbformat_minor": 0,
  "metadata": {
    "colab": {
      "name": "CodeUp.ipynb",
      "provenance": [],
      "collapsed_sections": [],
      "authorship_tag": "ABX9TyPyd6ao/8X8C3Z71Yu9D+13",
      "include_colab_link": true
    },
    "kernelspec": {
      "name": "python3",
      "display_name": "Python 3"
    }
  },
  "cells": [
    {
      "cell_type": "markdown",
      "metadata": {
        "id": "view-in-github",
        "colab_type": "text"
      },
      "source": [
        "<a href=\"https://colab.research.google.com/github/dj-1087/Algorithm-TIL-/blob/master/CodeUp.ipynb\" target=\"_parent\"><img src=\"https://colab.research.google.com/assets/colab-badge.svg\" alt=\"Open In Colab\"/></a>"
      ]
    },
    {
      "cell_type": "code",
      "metadata": {
        "colab": {
          "base_uri": "https://localhost:8080/"
        },
        "id": "7vbzSO4v75Qx",
        "outputId": "36128db2-e720-4412-bff7-2004fff4f81b"
      },
      "source": [
        "from google.colab import auth\r\n",
        "auth.authenticate_user()\r\n",
        "from google.colab import drive\r\n",
        "drive.mount('/content/gdrive')"
      ],
      "execution_count": null,
      "outputs": [
        {
          "output_type": "stream",
          "text": [
            "Mounted at /content/gdrive\n"
          ],
          "name": "stdout"
        }
      ]
    },
    {
      "cell_type": "markdown",
      "metadata": {
        "id": "ZEaR6YtH8mf4"
      },
      "source": [
        "### [기초-출력] 출력하기(설명)"
      ]
    },
    {
      "cell_type": "code",
      "metadata": {
        "colab": {
          "base_uri": "https://localhost:8080/"
        },
        "id": "4RQ74KtJ8Gp9",
        "outputId": "db7399cf-780d-4ebe-b62f-9e963e07b250"
      },
      "source": [
        "print(\"Hello\")\r\n",
        "print(\"Hello World\")\r\n",
        "print(\"Hello\\nWorld\")\r\n",
        "print(\"\\'Hello\\'\")\r\n",
        "print(\"\\\"Hello World\\\"\")\r\n",
        "print(\"\\\"!@#$%^&*()\\\"\")\r\n",
        "print(\"\\\"C:\\Download\\hello.cpp\\\"\")\r\n",
        "print(\"\\u250C\\u252C\\u2510\\n\\u251C\\u253C\\u2524\\n\\u2514\\u2534\\u2518\")"
      ],
      "execution_count": null,
      "outputs": [
        {
          "output_type": "stream",
          "text": [
            "Hello\n",
            "Hello World\n",
            "Hello\n",
            "World\n",
            "'Hello'\n",
            "\"Hello World\"\n",
            "\"!@#$%^&*()\"\n",
            "\"C:\\Download\\hello.cpp\"\n",
            "┌┬┐\n",
            "├┼┤\n",
            "└┴┘\n"
          ],
          "name": "stdout"
        }
      ]
    },
    {
      "cell_type": "markdown",
      "metadata": {
        "id": "EEBWsIE6A_xI"
      },
      "source": [
        "### [기초-입출력]\r\n",
        "\r\n",
        "```\r\n",
        "# 코드로 형식 지정됨\r\n",
        "```\r\n",
        "\r\n"
      ]
    },
    {
      "cell_type": "code",
      "metadata": {
        "colab": {
          "base_uri": "https://localhost:8080/"
        },
        "id": "T-V3c9WkAaoY",
        "outputId": "bad22ec2-b6d3-45ec-d782-5b67be95e6db"
      },
      "source": [
        ""
      ],
      "execution_count": null,
      "outputs": [
        {
          "output_type": "stream",
          "text": [
            "Hello World\n"
          ],
          "name": "stdout"
        }
      ]
    },
    {
      "cell_type": "markdown",
      "metadata": {
        "id": "fa5hk7d3BZKi"
      },
      "source": [
        "### 1003 : [기초-출력] 출력하기03(설명)"
      ]
    },
    {
      "cell_type": "code",
      "metadata": {
        "colab": {
          "base_uri": "https://localhost:8080/"
        },
        "id": "OFQkr0M5BFci",
        "outputId": "097ad8e0-2b6d-4202-ee9e-5ad1e57d01be"
      },
      "source": [
        ""
      ],
      "execution_count": null,
      "outputs": [
        {
          "output_type": "stream",
          "text": [
            "Hello\n",
            "World\n"
          ],
          "name": "stdout"
        }
      ]
    },
    {
      "cell_type": "markdown",
      "metadata": {
        "id": "FSeUuGNJCSOp"
      },
      "source": [
        "### 1004 : [기초-출력] 출력하기04(설명)"
      ]
    },
    {
      "cell_type": "code",
      "metadata": {
        "colab": {
          "base_uri": "https://localhost:8080/"
        },
        "id": "ePh5lKXHBnzn",
        "outputId": "235a9fbd-54ab-4e3c-eef1-f283fd71089a"
      },
      "source": [
        ""
      ],
      "execution_count": null,
      "outputs": [
        {
          "output_type": "stream",
          "text": [
            "'Hello'\n"
          ],
          "name": "stdout"
        }
      ]
    },
    {
      "cell_type": "code",
      "metadata": {
        "id": "CyVLlmAkCP3B"
      },
      "source": [
        ""
      ],
      "execution_count": null,
      "outputs": []
    }
  ]
}