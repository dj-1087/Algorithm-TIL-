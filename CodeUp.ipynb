{
  "nbformat": 4,
  "nbformat_minor": 0,
  "metadata": {
    "colab": {
      "name": "CodeUp.ipynb",
      "provenance": [],
      "collapsed_sections": [],
      "authorship_tag": "ABX9TyMQ83Nrm6PhNV9ez3yxtetb",
      "include_colab_link": true
    },
    "kernelspec": {
      "name": "python3",
      "display_name": "Python 3"
    }
  },
  "cells": [
    {
      "cell_type": "markdown",
      "metadata": {
        "id": "view-in-github",
        "colab_type": "text"
      },
      "source": [
        "<a href=\"https://colab.research.google.com/github/dj-1087/Algorithm-TIL-/blob/master/CodeUp.ipynb\" target=\"_parent\"><img src=\"https://colab.research.google.com/assets/colab-badge.svg\" alt=\"Open In Colab\"/></a>"
      ]
    },
    {
      "cell_type": "code",
      "metadata": {
        "colab": {
          "base_uri": "https://localhost:8080/"
        },
        "id": "7vbzSO4v75Qx",
        "outputId": "36128db2-e720-4412-bff7-2004fff4f81b"
      },
      "source": [
        "from google.colab import auth\r\n",
        "auth.authenticate_user()\r\n",
        "from google.colab import drive\r\n",
        "drive.mount('/content/gdrive')"
      ],
      "execution_count": null,
      "outputs": [
        {
          "output_type": "stream",
          "text": [
            "Mounted at /content/gdrive\n"
          ],
          "name": "stdout"
        }
      ]
    },
    {
      "cell_type": "markdown",
      "metadata": {
        "id": "ZEaR6YtH8mf4"
      },
      "source": [
        "### [기초-출력] 출력하기(설명)"
      ]
    },
    {
      "cell_type": "code",
      "metadata": {
        "colab": {
          "base_uri": "https://localhost:8080/"
        },
        "id": "4RQ74KtJ8Gp9",
        "outputId": "db7399cf-780d-4ebe-b62f-9e963e07b250"
      },
      "source": [
        "print(\"Hello\")\r\n",
        "print(\"Hello World\")\r\n",
        "print(\"Hello\\nWorld\")\r\n",
        "print(\"\\'Hello\\'\")\r\n",
        "print(\"\\\"Hello World\\\"\")\r\n",
        "print(\"\\\"!@#$%^&*()\\\"\")\r\n",
        "print(\"\\\"C:\\Download\\hello.cpp\\\"\")\r\n",
        "print(\"\\u250C\\u252C\\u2510\\n\\u251C\\u253C\\u2524\\n\\u2514\\u2534\\u2518\")"
      ],
      "execution_count": null,
      "outputs": [
        {
          "output_type": "stream",
          "text": [
            "Hello\n",
            "Hello World\n",
            "Hello\n",
            "World\n",
            "'Hello'\n",
            "\"Hello World\"\n",
            "\"!@#$%^&*()\"\n",
            "\"C:\\Download\\hello.cpp\"\n",
            "┌┬┐\n",
            "├┼┤\n",
            "└┴┘\n"
          ],
          "name": "stdout"
        }
      ]
    },
    {
      "cell_type": "markdown",
      "metadata": {
        "id": "EEBWsIE6A_xI"
      },
      "source": [
        "### [기초-입출력]"
      ]
    },
    {
      "cell_type": "code",
      "metadata": {
        "colab": {
          "base_uri": "https://localhost:8080/"
        },
        "id": "T-V3c9WkAaoY",
        "outputId": "df686d90-73e0-423a-831f-24ea77c00475"
      },
      "source": [
        "print(int(input()))"
      ],
      "execution_count": 16,
      "outputs": [
        {
          "output_type": "stream",
          "text": [
            "15\n",
            "15\n"
          ],
          "name": "stdout"
        }
      ]
    },
    {
      "cell_type": "code",
      "metadata": {
        "colab": {
          "base_uri": "https://localhost:8080/"
        },
        "id": "F4QejXZvFmuB",
        "outputId": "10d68189-3de9-4139-c7fc-d4d9b83a96d6"
      },
      "source": [
        "print(str(input()))"
      ],
      "execution_count": 18,
      "outputs": [
        {
          "output_type": "stream",
          "text": [
            "p\n",
            "p\n"
          ],
          "name": "stdout"
        }
      ]
    },
    {
      "cell_type": "code",
      "metadata": {
        "colab": {
          "base_uri": "https://localhost:8080/"
        },
        "id": "Rn-9VqHPF6jd",
        "outputId": "a7937736-0f95-49bd-ae5e-51577e71ab7a"
      },
      "source": [
        "#\"%f\" % a\r\n",
        "print(\"%f\" % float(input()))"
      ],
      "execution_count": 20,
      "outputs": [
        {
          "output_type": "stream",
          "text": [
            "1.414213\n",
            "1.414213\n"
          ],
          "name": "stdout"
        }
      ]
    },
    {
      "cell_type": "code",
      "metadata": {
        "colab": {
          "base_uri": "https://localhost:8080/"
        },
        "id": "arjkyrmYHYWM",
        "outputId": "3f75766d-2a87-4437-a8a5-47167ceea682"
      },
      "source": [
        "a,b = map(int, input().split())\r\n",
        "print(a,b)"
      ],
      "execution_count": 25,
      "outputs": [
        {
          "output_type": "stream",
          "text": [
            "1 2\n",
            "1 2\n"
          ],
          "name": "stdout"
        }
      ]
    },
    {
      "cell_type": "code",
      "metadata": {
        "colab": {
          "base_uri": "https://localhost:8080/"
        },
        "id": "U6eHOPDFH6nO",
        "outputId": "e22fbab9-c160-4811-f934-edd9465470a3"
      },
      "source": [
        "a, b = input().split()\r\n",
        "print(b, a)"
      ],
      "execution_count": 26,
      "outputs": [
        {
          "output_type": "stream",
          "text": [
            "A b\n",
            "b A\n"
          ],
          "name": "stdout"
        }
      ]
    },
    {
      "cell_type": "code",
      "metadata": {
        "id": "Brmusb9TJWOr"
      },
      "source": [
        "print(\"%.2f\" % float(input()))"
      ],
      "execution_count": null,
      "outputs": []
    },
    {
      "cell_type": "code",
      "metadata": {
        "colab": {
          "base_uri": "https://localhost:8080/"
        },
        "id": "niVlcQv7JXO7",
        "outputId": "7a1452e6-7135-40fc-caaa-68b88a5b06d8"
      },
      "source": [
        "a = int(input())\r\n",
        "print(a,a,a)"
      ],
      "execution_count": 30,
      "outputs": [
        {
          "output_type": "stream",
          "text": [
            "125\n",
            "%d %d %d 125 125 125\n"
          ],
          "name": "stdout"
        }
      ]
    },
    {
      "cell_type": "code",
      "metadata": {
        "colab": {
          "base_uri": "https://localhost:8080/"
        },
        "id": "vsicB31wKTkj",
        "outputId": "1b8a6923-f115-496d-e74f-5bc008b014c4"
      },
      "source": [
        "h, m = input().split(\":\")\r\n",
        "print(h+\":\"+m)"
      ],
      "execution_count": 33,
      "outputs": [
        {
          "output_type": "stream",
          "text": [
            "3: 16\n",
            "3: 16\n"
          ],
          "name": "stdout"
        }
      ]
    },
    {
      "cell_type": "code",
      "metadata": {
        "colab": {
          "base_uri": "https://localhost:8080/"
        },
        "id": "hrpHOsruLetp",
        "outputId": "e3905cba-db10-4bb5-cf53-4287179df316"
      },
      "source": [
        "y,m,d = input().split(\".\")\r\n",
        "print(y.zfill(4),m.zfill(2),d.zfill(2), sep=\".\")"
      ],
      "execution_count": 34,
      "outputs": [
        {
          "output_type": "stream",
          "text": [
            "2013.8.5\n",
            "2013.08.05\n"
          ],
          "name": "stdout"
        }
      ]
    },
    {
      "cell_type": "markdown",
      "metadata": {
        "id": "fa5hk7d3BZKi"
      },
      "source": [
        "### 1003 : [기초-출력] 출력하기03(설명)"
      ]
    },
    {
      "cell_type": "code",
      "metadata": {
        "colab": {
          "base_uri": "https://localhost:8080/"
        },
        "id": "OFQkr0M5BFci",
        "outputId": "d35a7cdb-d303-4631-f7e1-940f51974b98"
      },
      "source": [
        "f,b = "
      ],
      "execution_count": 27,
      "outputs": [
        {
          "output_type": "stream",
          "text": [
            "1.59254\n",
            "1.593\n"
          ],
          "name": "stdout"
        }
      ]
    },
    {
      "cell_type": "markdown",
      "metadata": {
        "id": "FSeUuGNJCSOp"
      },
      "source": [
        "### 1004 : [기초-출력] 출력하기04(설명)"
      ]
    },
    {
      "cell_type": "code",
      "metadata": {
        "colab": {
          "base_uri": "https://localhost:8080/"
        },
        "id": "ePh5lKXHBnzn",
        "outputId": "235a9fbd-54ab-4e3c-eef1-f283fd71089a"
      },
      "source": [
        ""
      ],
      "execution_count": null,
      "outputs": [
        {
          "output_type": "stream",
          "text": [
            "'Hello'\n"
          ],
          "name": "stdout"
        }
      ]
    },
    {
      "cell_type": "code",
      "metadata": {
        "id": "CyVLlmAkCP3B"
      },
      "source": [
        ""
      ],
      "execution_count": null,
      "outputs": []
    }
  ]
}