{
  "nbformat": 4,
  "nbformat_minor": 0,
  "metadata": {
    "colab": {
      "name": "CodeUp.ipynb",
      "provenance": [],
      "collapsed_sections": [],
      "authorship_tag": "ABX9TyNm+E8eerqwjEsLDj52U7tA",
      "include_colab_link": true
    },
    "kernelspec": {
      "name": "python3",
      "display_name": "Python 3"
    }
  },
  "cells": [
    {
      "cell_type": "markdown",
      "metadata": {
        "id": "view-in-github",
        "colab_type": "text"
      },
      "source": [
        "<a href=\"https://colab.research.google.com/github/dj-1087/Algorithm-TIL-/blob/master/CodeUp.ipynb\" target=\"_parent\"><img src=\"https://colab.research.google.com/assets/colab-badge.svg\" alt=\"Open In Colab\"/></a>"
      ]
    },
    {
      "cell_type": "code",
      "metadata": {
        "colab": {
          "base_uri": "https://localhost:8080/"
        },
        "id": "7vbzSO4v75Qx",
        "outputId": "36128db2-e720-4412-bff7-2004fff4f81b"
      },
      "source": [
        "from google.colab import auth\r\n",
        "auth.authenticate_user()\r\n",
        "from google.colab import drive\r\n",
        "drive.mount('/content/gdrive')"
      ],
      "execution_count": null,
      "outputs": [
        {
          "output_type": "stream",
          "text": [
            "Mounted at /content/gdrive\n"
          ],
          "name": "stdout"
        }
      ]
    },
    {
      "cell_type": "markdown",
      "metadata": {
        "id": "ZEaR6YtH8mf4"
      },
      "source": [
        "### [기초-출력] 출력하기(설명)"
      ]
    },
    {
      "cell_type": "code",
      "metadata": {
        "colab": {
          "base_uri": "https://localhost:8080/"
        },
        "id": "4RQ74KtJ8Gp9",
        "outputId": "db7399cf-780d-4ebe-b62f-9e963e07b250"
      },
      "source": [
        "print(\"Hello\")\r\n",
        "print(\"Hello World\")\r\n",
        "print(\"Hello\\nWorld\")\r\n",
        "print(\"\\'Hello\\'\")\r\n",
        "print(\"\\\"Hello World\\\"\")\r\n",
        "print(\"\\\"!@#$%^&*()\\\"\")\r\n",
        "print(\"\\\"C:\\Download\\hello.cpp\\\"\")\r\n",
        "print(\"\\u250C\\u252C\\u2510\\n\\u251C\\u253C\\u2524\\n\\u2514\\u2534\\u2518\")"
      ],
      "execution_count": null,
      "outputs": [
        {
          "output_type": "stream",
          "text": [
            "Hello\n",
            "Hello World\n",
            "Hello\n",
            "World\n",
            "'Hello'\n",
            "\"Hello World\"\n",
            "\"!@#$%^&*()\"\n",
            "\"C:\\Download\\hello.cpp\"\n",
            "┌┬┐\n",
            "├┼┤\n",
            "└┴┘\n"
          ],
          "name": "stdout"
        }
      ]
    },
    {
      "cell_type": "markdown",
      "metadata": {
        "id": "EEBWsIE6A_xI"
      },
      "source": [
        "### [기초-입출력]"
      ]
    },
    {
      "cell_type": "code",
      "metadata": {
        "colab": {
          "base_uri": "https://localhost:8080/"
        },
        "id": "T-V3c9WkAaoY",
        "outputId": "df686d90-73e0-423a-831f-24ea77c00475"
      },
      "source": [
        "print(int(input()))"
      ],
      "execution_count": 16,
      "outputs": [
        {
          "output_type": "stream",
          "text": [
            "15\n",
            "15\n"
          ],
          "name": "stdout"
        }
      ]
    },
    {
      "cell_type": "code",
      "metadata": {
        "colab": {
          "base_uri": "https://localhost:8080/"
        },
        "id": "F4QejXZvFmuB",
        "outputId": "10d68189-3de9-4139-c7fc-d4d9b83a96d6"
      },
      "source": [
        "print(str(input()))"
      ],
      "execution_count": 18,
      "outputs": [
        {
          "output_type": "stream",
          "text": [
            "p\n",
            "p\n"
          ],
          "name": "stdout"
        }
      ]
    },
    {
      "cell_type": "code",
      "metadata": {
        "colab": {
          "base_uri": "https://localhost:8080/"
        },
        "id": "Rn-9VqHPF6jd",
        "outputId": "a7937736-0f95-49bd-ae5e-51577e71ab7a"
      },
      "source": [
        "#\"%f\" % a\r\n",
        "print(\"%f\" % float(input()))"
      ],
      "execution_count": 20,
      "outputs": [
        {
          "output_type": "stream",
          "text": [
            "1.414213\n",
            "1.414213\n"
          ],
          "name": "stdout"
        }
      ]
    },
    {
      "cell_type": "code",
      "metadata": {
        "colab": {
          "base_uri": "https://localhost:8080/"
        },
        "id": "arjkyrmYHYWM",
        "outputId": "3f75766d-2a87-4437-a8a5-47167ceea682"
      },
      "source": [
        "a,b = map(int, input().split())\r\n",
        "print(a,b)"
      ],
      "execution_count": 25,
      "outputs": [
        {
          "output_type": "stream",
          "text": [
            "1 2\n",
            "1 2\n"
          ],
          "name": "stdout"
        }
      ]
    },
    {
      "cell_type": "code",
      "metadata": {
        "colab": {
          "base_uri": "https://localhost:8080/"
        },
        "id": "U6eHOPDFH6nO",
        "outputId": "e22fbab9-c160-4811-f934-edd9465470a3"
      },
      "source": [
        "a, b = input().split()\r\n",
        "print(b, a)"
      ],
      "execution_count": 26,
      "outputs": [
        {
          "output_type": "stream",
          "text": [
            "A b\n",
            "b A\n"
          ],
          "name": "stdout"
        }
      ]
    },
    {
      "cell_type": "code",
      "metadata": {
        "id": "Brmusb9TJWOr"
      },
      "source": [
        "print(\"%.2f\" % float(input()))"
      ],
      "execution_count": null,
      "outputs": []
    },
    {
      "cell_type": "code",
      "metadata": {
        "colab": {
          "base_uri": "https://localhost:8080/"
        },
        "id": "niVlcQv7JXO7",
        "outputId": "7a1452e6-7135-40fc-caaa-68b88a5b06d8"
      },
      "source": [
        "a = int(input())\r\n",
        "print(a,a,a)"
      ],
      "execution_count": 30,
      "outputs": [
        {
          "output_type": "stream",
          "text": [
            "125\n",
            "%d %d %d 125 125 125\n"
          ],
          "name": "stdout"
        }
      ]
    },
    {
      "cell_type": "code",
      "metadata": {
        "colab": {
          "base_uri": "https://localhost:8080/"
        },
        "id": "vsicB31wKTkj",
        "outputId": "1b8a6923-f115-496d-e74f-5bc008b014c4"
      },
      "source": [
        "h, m = input().split(\":\")\r\n",
        "print(h+\":\"+m)"
      ],
      "execution_count": 33,
      "outputs": [
        {
          "output_type": "stream",
          "text": [
            "3: 16\n",
            "3: 16\n"
          ],
          "name": "stdout"
        }
      ]
    },
    {
      "cell_type": "code",
      "metadata": {
        "colab": {
          "base_uri": "https://localhost:8080/"
        },
        "id": "hrpHOsruLetp",
        "outputId": "e3905cba-db10-4bb5-cf53-4287179df316"
      },
      "source": [
        "y,m,d = input().split(\".\")\r\n",
        "print(y.zfill(4),m.zfill(2),d.zfill(2), sep=\".\")"
      ],
      "execution_count": 34,
      "outputs": [
        {
          "output_type": "stream",
          "text": [
            "2013.8.5\n",
            "2013.08.05\n"
          ],
          "name": "stdout"
        }
      ]
    },
    {
      "cell_type": "code",
      "metadata": {
        "colab": {
          "base_uri": "https://localhost:8080/"
        },
        "id": "gyGYLB3YMYPg",
        "outputId": "189c7336-fd4f-4d14-de2b-d32bd9c812ce"
      },
      "source": [
        "f,b = input().split(\"-\")\r\n",
        "print(f,b,sep=\"\")"
      ],
      "execution_count": 35,
      "outputs": [
        {
          "output_type": "stream",
          "text": [
            "000907-1121112\n",
            "0009071121112\n"
          ],
          "name": "stdout"
        }
      ]
    },
    {
      "cell_type": "code",
      "metadata": {
        "colab": {
          "base_uri": "https://localhost:8080/"
        },
        "id": "S-EwUt9NMrJ1",
        "outputId": "44ec0f92-0f6a-4d5c-9e24-c9e8825c6f8c"
      },
      "source": [
        "print(input())"
      ],
      "execution_count": 36,
      "outputs": [
        {
          "output_type": "stream",
          "text": [
            "Informatics\n",
            "Informatics\n"
          ],
          "name": "stdout"
        }
      ]
    },
    {
      "cell_type": "code",
      "metadata": {
        "colab": {
          "base_uri": "https://localhost:8080/"
        },
        "id": "bzFQ6qMEM4z3",
        "outputId": "c6111381-5219-455d-aa8b-0e7d288b0a4a"
      },
      "source": [
        "i,f = input().split(\".\")\r\n",
        "print(i,f,sep=\"\\n\")"
      ],
      "execution_count": 38,
      "outputs": [
        {
          "output_type": "stream",
          "text": [
            "1.414213\n",
            "1\n",
            "414213\n"
          ],
          "name": "stdout"
        }
      ]
    },
    {
      "cell_type": "code",
      "metadata": {
        "colab": {
          "base_uri": "https://localhost:8080/"
        },
        "id": "E-wuZnEINpsV",
        "outputId": "aa58c521-c708-4261-8384-17d3a91e1054"
      },
      "source": [
        "word = input()\r\n",
        "for i in word:\r\n",
        "  print(\"\\'\"+i+\"\\'\")"
      ],
      "execution_count": 41,
      "outputs": [
        {
          "output_type": "stream",
          "text": [
            "Boy\n",
            "'B'\n",
            "'o'\n",
            "'y'\n"
          ],
          "name": "stdout"
        }
      ]
    },
    {
      "cell_type": "code",
      "metadata": {
        "colab": {
          "base_uri": "https://localhost:8080/"
        },
        "id": "ACg3FWPdOJA8",
        "outputId": "18053e7e-e5b4-4cc9-9395-6c31d7ffd5a7"
      },
      "source": [
        "num = input()\r\n",
        "for i in range(5):\r\n",
        "  print(\"[\"+num[i]+\"0\"*(4-i)+\"]\")"
      ],
      "execution_count": 42,
      "outputs": [
        {
          "output_type": "stream",
          "text": [
            "75254\n",
            "[70000]\n",
            "[5000]\n",
            "[200]\n",
            "[50]\n",
            "[4]\n"
          ],
          "name": "stdout"
        }
      ]
    },
    {
      "cell_type": "code",
      "metadata": {
        "colab": {
          "base_uri": "https://localhost:8080/"
        },
        "id": "Az_Dxm_rPoTt",
        "outputId": "52021593-583c-4001-8f65-793f0ed78766"
      },
      "source": [
        "m = input().split(\":\")[1]\r\n",
        "print(int(m))"
      ],
      "execution_count": 46,
      "outputs": [
        {
          "output_type": "stream",
          "text": [
            "11:00:22\n",
            "0\n"
          ],
          "name": "stdout"
        }
      ]
    },
    {
      "cell_type": "code",
      "metadata": {
        "colab": {
          "base_uri": "https://localhost:8080/"
        },
        "id": "mwOQV-K6QUI6",
        "outputId": "921eb5d8-cbd5-40c0-eabc-dc5906ba78ab"
      },
      "source": [
        "y,m,d = input().split(\".\")\r\n",
        "print(d,m,y,sep=\"-\")"
      ],
      "execution_count": 47,
      "outputs": [
        {
          "output_type": "stream",
          "text": [
            "2014.07.15\n",
            "15-07-2014\n"
          ],
          "name": "stdout"
        }
      ]
    },
    {
      "cell_type": "markdown",
      "metadata": {
        "id": "5tpiaZkWTjP6"
      },
      "source": [
        "### [기초-출력변환]"
      ]
    },
    {
      "cell_type": "code",
      "metadata": {
        "colab": {
          "base_uri": "https://localhost:8080/"
        },
        "id": "glHrTZ84QuN7",
        "outputId": "7ec3bf96-2bc9-4006-cdc6-93955e7b706a"
      },
      "source": [
        "print(\"%o\" % int(input())) #8진수 변환\r\n",
        "print(\"%x\" % int(input())) #16진수 변환\r\n",
        "print(\"%X\" % int(input())) #16진수 변환"
      ],
      "execution_count": 51,
      "outputs": [
        {
          "output_type": "stream",
          "text": [
            "255\n",
            "377\n",
            "255\n",
            "FF\n"
          ],
          "name": "stdout"
        }
      ]
    },
    {
      "cell_type": "code",
      "metadata": {
        "colab": {
          "base_uri": "https://localhost:8080/"
        },
        "id": "faVWjiE9Solz",
        "outputId": "8788f557-a732-4b76-cdca-2d28b09f2606"
      },
      "source": [
        "print(int(input(),8))"
      ],
      "execution_count": 52,
      "outputs": [
        {
          "output_type": "stream",
          "text": [
            "13\n",
            "11\n"
          ],
          "name": "stdout"
        }
      ]
    },
    {
      "cell_type": "code",
      "metadata": {
        "colab": {
          "base_uri": "https://localhost:8080/"
        },
        "id": "OFQkr0M5BFci",
        "outputId": "2c241eee-0fed-4f35-e9de-a2759c8db45f"
      },
      "source": [
        "print(\"%o\" % int(input(), 16))"
      ],
      "execution_count": 53,
      "outputs": [
        {
          "output_type": "stream",
          "text": [
            "f\n",
            "17\n"
          ],
          "name": "stdout"
        }
      ]
    },
    {
      "cell_type": "code",
      "metadata": {
        "colab": {
          "base_uri": "https://localhost:8080/"
        },
        "id": "NSEQZb1tUdqD",
        "outputId": "47c9ebda-deb6-42eb-d8c1-ddbd75dcf45a"
      },
      "source": [
        "print(ord(input()))"
      ],
      "execution_count": 57,
      "outputs": [
        {
          "output_type": "stream",
          "text": [
            "A\n",
            "65\n"
          ],
          "name": "stdout"
        }
      ]
    },
    {
      "cell_type": "code",
      "metadata": {
        "colab": {
          "base_uri": "https://localhost:8080/"
        },
        "id": "oFpgEzcmVFlG",
        "outputId": "228cc211-12b1-4104-9888-f655a27d75e1"
      },
      "source": [
        "print(chr(int(input())))"
      ],
      "execution_count": 58,
      "outputs": [
        {
          "output_type": "stream",
          "text": [
            "65\n",
            "A\n"
          ],
          "name": "stdout"
        }
      ]
    },
    {
      "cell_type": "markdown",
      "metadata": {
        "id": "FSeUuGNJCSOp"
      },
      "source": [
        "### [기초-산술연산]"
      ]
    },
    {
      "cell_type": "code",
      "metadata": {
        "colab": {
          "base_uri": "https://localhost:8080/"
        },
        "id": "ePh5lKXHBnzn",
        "outputId": "77a4abe5-f52c-4b8f-cb7d-a776aa586334"
      },
      "source": [
        "a, b = map(int, input().split())\r\n",
        "print(a+b)"
      ],
      "execution_count": 59,
      "outputs": [
        {
          "output_type": "stream",
          "text": [
            "123 -123\n",
            "0\n"
          ],
          "name": "stdout"
        }
      ]
    },
    {
      "cell_type": "code",
      "metadata": {
        "id": "CyVLlmAkCP3B",
        "colab": {
          "base_uri": "https://localhost:8080/"
        },
        "outputId": "ef13da3d-d403-4582-995e-49c968f3963c"
      },
      "source": [
        "print(int(input())*-1)"
      ],
      "execution_count": 61,
      "outputs": [
        {
          "output_type": "stream",
          "text": [
            "-1\n",
            "1\n"
          ],
          "name": "stdout"
        }
      ]
    },
    {
      "cell_type": "code",
      "metadata": {
        "colab": {
          "base_uri": "https://localhost:8080/"
        },
        "id": "0yty10rmWKc2",
        "outputId": "9a5b5a31-893c-4602-acc5-741f131ee821"
      },
      "source": [
        "print(chr(ord(input())+1))"
      ],
      "execution_count": 62,
      "outputs": [
        {
          "output_type": "stream",
          "text": [
            "A\n",
            "B\n"
          ],
          "name": "stdout"
        }
      ]
    },
    {
      "cell_type": "code",
      "metadata": {
        "colab": {
          "base_uri": "https://localhost:8080/"
        },
        "id": "nFNHeeHAW9_k",
        "outputId": "710dd0c1-9b4e-4e0b-d43f-fddd49c00bfb"
      },
      "source": [
        "a, b = map(int, input().split())\r\n",
        "print(a//b)"
      ],
      "execution_count": 68,
      "outputs": [
        {
          "output_type": "stream",
          "text": [
            "1 3\n",
            "0\n"
          ],
          "name": "stdout"
        }
      ]
    },
    {
      "cell_type": "code",
      "metadata": {
        "colab": {
          "base_uri": "https://localhost:8080/"
        },
        "id": "6C0Hx-QKXSs6",
        "outputId": "e8e72217-7a05-427d-adf7-ced83aa4b22c"
      },
      "source": [
        "print(int(input())+1)"
      ],
      "execution_count": 69,
      "outputs": [
        {
          "output_type": "stream",
          "text": [
            "2147483647\n",
            "2147483648\n"
          ],
          "name": "stdout"
        }
      ]
    },
    {
      "cell_type": "code",
      "metadata": {
        "colab": {
          "base_uri": "https://localhost:8080/"
        },
        "id": "-vJUuW3JXzGV",
        "outputId": "9ff60754-8d92-4853-ed9e-f00234f53765"
      },
      "source": [
        "a, b = map(int, input().split())\r\n",
        "print(a+b)\r\n",
        "print(a-b)\r\n",
        "print(a*b)\r\n",
        "print(a//b)\r\n",
        "print(a%b)\r\n",
        "print(\"%.2f\" % float(a/b))"
      ],
      "execution_count": 73,
      "outputs": [
        {
          "output_type": "stream",
          "text": [
            "10 3\n",
            "13\n",
            "7\n",
            "30\n",
            "3\n",
            "1\n",
            "3.33\n"
          ],
          "name": "stdout"
        }
      ]
    },
    {
      "cell_type": "code",
      "metadata": {
        "colab": {
          "base_uri": "https://localhost:8080/"
        },
        "id": "4YCCx9FaYVpk",
        "outputId": "c80e0a56-1b08-4308-efe5-acdcefa58431"
      },
      "source": [
        "nums = list(map(int, input().split()))\r\n",
        "sum = 0\r\n",
        "for i in nums:\r\n",
        "  sum += i\r\n",
        "print(sum,\"%.1f\" % float(sum/len(nums)),sep=\"\\n\")"
      ],
      "execution_count": 78,
      "outputs": [
        {
          "output_type": "stream",
          "text": [
            "1 2 3\n",
            "6\n",
            "2.0\n"
          ],
          "name": "stdout"
        }
      ]
    },
    {
      "cell_type": "markdown",
      "metadata": {
        "id": "zmSsHBeVaDqt"
      },
      "source": [
        "### [기초-비트시프트연산]"
      ]
    },
    {
      "cell_type": "code",
      "metadata": {
        "id": "oejzXvHvZeCa"
      },
      "source": [
        ""
      ],
      "execution_count": null,
      "outputs": []
    }
  ]
}