{
  "nbformat": 4,
  "nbformat_minor": 0,
  "metadata": {
    "colab": {
      "name": "CodeUp.ipynb",
      "provenance": [],
      "collapsed_sections": [
        "ZEaR6YtH8mf4",
        "EEBWsIE6A_xI",
        "5tpiaZkWTjP6",
        "FSeUuGNJCSOp",
        "zmSsHBeVaDqt",
        "1GK9XDQgbDft",
        "ajRot5jkcnX1",
        "13ECuWiVeZby",
        "c4fwt2AVfkxA"
      ],
      "authorship_tag": "ABX9TyOpHEndAkREDA5ekBZ3y+3b",
      "include_colab_link": true
    },
    "kernelspec": {
      "name": "python3",
      "display_name": "Python 3"
    }
  },
  "cells": [
    {
      "cell_type": "markdown",
      "metadata": {
        "id": "view-in-github",
        "colab_type": "text"
      },
      "source": [
        "<a href=\"https://colab.research.google.com/github/dj-1087/Algorithm-TIL-/blob/master/CodeUp.ipynb\" target=\"_parent\"><img src=\"https://colab.research.google.com/assets/colab-badge.svg\" alt=\"Open In Colab\"/></a>"
      ]
    },
    {
      "cell_type": "code",
      "metadata": {
        "colab": {
          "base_uri": "https://localhost:8080/"
        },
        "id": "7vbzSO4v75Qx",
        "outputId": "36128db2-e720-4412-bff7-2004fff4f81b"
      },
      "source": [
        "from google.colab import auth\r\n",
        "auth.authenticate_user()\r\n",
        "from google.colab import drive\r\n",
        "drive.mount('/content/gdrive')"
      ],
      "execution_count": null,
      "outputs": [
        {
          "output_type": "stream",
          "text": [
            "Mounted at /content/gdrive\n"
          ],
          "name": "stdout"
        }
      ]
    },
    {
      "cell_type": "markdown",
      "metadata": {
        "id": "ZEaR6YtH8mf4"
      },
      "source": [
        "### [기초-출력] 출력하기(설명)"
      ]
    },
    {
      "cell_type": "code",
      "metadata": {
        "colab": {
          "base_uri": "https://localhost:8080/"
        },
        "id": "4RQ74KtJ8Gp9",
        "outputId": "db7399cf-780d-4ebe-b62f-9e963e07b250"
      },
      "source": [
        "print(\"Hello\")\r\n",
        "print(\"Hello World\")\r\n",
        "print(\"Hello\\nWorld\")\r\n",
        "print(\"\\'Hello\\'\")\r\n",
        "print(\"\\\"Hello World\\\"\")\r\n",
        "print(\"\\\"!@#$%^&*()\\\"\")\r\n",
        "print(\"\\\"C:\\Download\\hello.cpp\\\"\")\r\n",
        "print(\"\\u250C\\u252C\\u2510\\n\\u251C\\u253C\\u2524\\n\\u2514\\u2534\\u2518\")"
      ],
      "execution_count": null,
      "outputs": [
        {
          "output_type": "stream",
          "text": [
            "Hello\n",
            "Hello World\n",
            "Hello\n",
            "World\n",
            "'Hello'\n",
            "\"Hello World\"\n",
            "\"!@#$%^&*()\"\n",
            "\"C:\\Download\\hello.cpp\"\n",
            "┌┬┐\n",
            "├┼┤\n",
            "└┴┘\n"
          ],
          "name": "stdout"
        }
      ]
    },
    {
      "cell_type": "markdown",
      "metadata": {
        "id": "EEBWsIE6A_xI"
      },
      "source": [
        "### [기초-입출력]"
      ]
    },
    {
      "cell_type": "code",
      "metadata": {
        "colab": {
          "base_uri": "https://localhost:8080/"
        },
        "id": "T-V3c9WkAaoY",
        "outputId": "df686d90-73e0-423a-831f-24ea77c00475"
      },
      "source": [
        "print(int(input()))"
      ],
      "execution_count": 16,
      "outputs": [
        {
          "output_type": "stream",
          "text": [
            "15\n",
            "15\n"
          ],
          "name": "stdout"
        }
      ]
    },
    {
      "cell_type": "code",
      "metadata": {
        "colab": {
          "base_uri": "https://localhost:8080/"
        },
        "id": "F4QejXZvFmuB",
        "outputId": "10d68189-3de9-4139-c7fc-d4d9b83a96d6"
      },
      "source": [
        "print(str(input()))"
      ],
      "execution_count": 18,
      "outputs": [
        {
          "output_type": "stream",
          "text": [
            "p\n",
            "p\n"
          ],
          "name": "stdout"
        }
      ]
    },
    {
      "cell_type": "code",
      "metadata": {
        "colab": {
          "base_uri": "https://localhost:8080/"
        },
        "id": "Rn-9VqHPF6jd",
        "outputId": "a7937736-0f95-49bd-ae5e-51577e71ab7a"
      },
      "source": [
        "#\"%f\" % a\r\n",
        "print(\"%f\" % float(input()))"
      ],
      "execution_count": 20,
      "outputs": [
        {
          "output_type": "stream",
          "text": [
            "1.414213\n",
            "1.414213\n"
          ],
          "name": "stdout"
        }
      ]
    },
    {
      "cell_type": "code",
      "metadata": {
        "colab": {
          "base_uri": "https://localhost:8080/"
        },
        "id": "arjkyrmYHYWM",
        "outputId": "3f75766d-2a87-4437-a8a5-47167ceea682"
      },
      "source": [
        "a,b = map(int, input().split())\r\n",
        "print(a,b)"
      ],
      "execution_count": 25,
      "outputs": [
        {
          "output_type": "stream",
          "text": [
            "1 2\n",
            "1 2\n"
          ],
          "name": "stdout"
        }
      ]
    },
    {
      "cell_type": "code",
      "metadata": {
        "colab": {
          "base_uri": "https://localhost:8080/"
        },
        "id": "U6eHOPDFH6nO",
        "outputId": "e22fbab9-c160-4811-f934-edd9465470a3"
      },
      "source": [
        "a, b = input().split()\r\n",
        "print(b, a)"
      ],
      "execution_count": 26,
      "outputs": [
        {
          "output_type": "stream",
          "text": [
            "A b\n",
            "b A\n"
          ],
          "name": "stdout"
        }
      ]
    },
    {
      "cell_type": "code",
      "metadata": {
        "id": "Brmusb9TJWOr"
      },
      "source": [
        "print(\"%.2f\" % float(input()))"
      ],
      "execution_count": null,
      "outputs": []
    },
    {
      "cell_type": "code",
      "metadata": {
        "colab": {
          "base_uri": "https://localhost:8080/"
        },
        "id": "niVlcQv7JXO7",
        "outputId": "7a1452e6-7135-40fc-caaa-68b88a5b06d8"
      },
      "source": [
        "a = int(input())\r\n",
        "print(a,a,a)"
      ],
      "execution_count": 30,
      "outputs": [
        {
          "output_type": "stream",
          "text": [
            "125\n",
            "%d %d %d 125 125 125\n"
          ],
          "name": "stdout"
        }
      ]
    },
    {
      "cell_type": "code",
      "metadata": {
        "colab": {
          "base_uri": "https://localhost:8080/"
        },
        "id": "vsicB31wKTkj",
        "outputId": "1b8a6923-f115-496d-e74f-5bc008b014c4"
      },
      "source": [
        "h, m = input().split(\":\")\r\n",
        "print(h+\":\"+m)"
      ],
      "execution_count": 33,
      "outputs": [
        {
          "output_type": "stream",
          "text": [
            "3: 16\n",
            "3: 16\n"
          ],
          "name": "stdout"
        }
      ]
    },
    {
      "cell_type": "code",
      "metadata": {
        "colab": {
          "base_uri": "https://localhost:8080/"
        },
        "id": "hrpHOsruLetp",
        "outputId": "e3905cba-db10-4bb5-cf53-4287179df316"
      },
      "source": [
        "y,m,d = input().split(\".\")\r\n",
        "print(y.zfill(4),m.zfill(2),d.zfill(2), sep=\".\")"
      ],
      "execution_count": 34,
      "outputs": [
        {
          "output_type": "stream",
          "text": [
            "2013.8.5\n",
            "2013.08.05\n"
          ],
          "name": "stdout"
        }
      ]
    },
    {
      "cell_type": "code",
      "metadata": {
        "colab": {
          "base_uri": "https://localhost:8080/"
        },
        "id": "gyGYLB3YMYPg",
        "outputId": "189c7336-fd4f-4d14-de2b-d32bd9c812ce"
      },
      "source": [
        "f,b = input().split(\"-\")\r\n",
        "print(f,b,sep=\"\")"
      ],
      "execution_count": 35,
      "outputs": [
        {
          "output_type": "stream",
          "text": [
            "000907-1121112\n",
            "0009071121112\n"
          ],
          "name": "stdout"
        }
      ]
    },
    {
      "cell_type": "code",
      "metadata": {
        "colab": {
          "base_uri": "https://localhost:8080/"
        },
        "id": "S-EwUt9NMrJ1",
        "outputId": "44ec0f92-0f6a-4d5c-9e24-c9e8825c6f8c"
      },
      "source": [
        "print(input())"
      ],
      "execution_count": 36,
      "outputs": [
        {
          "output_type": "stream",
          "text": [
            "Informatics\n",
            "Informatics\n"
          ],
          "name": "stdout"
        }
      ]
    },
    {
      "cell_type": "code",
      "metadata": {
        "colab": {
          "base_uri": "https://localhost:8080/"
        },
        "id": "bzFQ6qMEM4z3",
        "outputId": "c6111381-5219-455d-aa8b-0e7d288b0a4a"
      },
      "source": [
        "i,f = input().split(\".\")\r\n",
        "print(i,f,sep=\"\\n\")"
      ],
      "execution_count": 38,
      "outputs": [
        {
          "output_type": "stream",
          "text": [
            "1.414213\n",
            "1\n",
            "414213\n"
          ],
          "name": "stdout"
        }
      ]
    },
    {
      "cell_type": "code",
      "metadata": {
        "colab": {
          "base_uri": "https://localhost:8080/"
        },
        "id": "E-wuZnEINpsV",
        "outputId": "aa58c521-c708-4261-8384-17d3a91e1054"
      },
      "source": [
        "word = input()\r\n",
        "for i in word:\r\n",
        "  print(\"\\'\"+i+\"\\'\")"
      ],
      "execution_count": 41,
      "outputs": [
        {
          "output_type": "stream",
          "text": [
            "Boy\n",
            "'B'\n",
            "'o'\n",
            "'y'\n"
          ],
          "name": "stdout"
        }
      ]
    },
    {
      "cell_type": "code",
      "metadata": {
        "colab": {
          "base_uri": "https://localhost:8080/"
        },
        "id": "ACg3FWPdOJA8",
        "outputId": "18053e7e-e5b4-4cc9-9395-6c31d7ffd5a7"
      },
      "source": [
        "num = input()\r\n",
        "for i in range(5):\r\n",
        "  print(\"[\"+num[i]+\"0\"*(4-i)+\"]\")"
      ],
      "execution_count": 42,
      "outputs": [
        {
          "output_type": "stream",
          "text": [
            "75254\n",
            "[70000]\n",
            "[5000]\n",
            "[200]\n",
            "[50]\n",
            "[4]\n"
          ],
          "name": "stdout"
        }
      ]
    },
    {
      "cell_type": "code",
      "metadata": {
        "colab": {
          "base_uri": "https://localhost:8080/"
        },
        "id": "Az_Dxm_rPoTt",
        "outputId": "52021593-583c-4001-8f65-793f0ed78766"
      },
      "source": [
        "m = input().split(\":\")[1]\r\n",
        "print(int(m))"
      ],
      "execution_count": 46,
      "outputs": [
        {
          "output_type": "stream",
          "text": [
            "11:00:22\n",
            "0\n"
          ],
          "name": "stdout"
        }
      ]
    },
    {
      "cell_type": "code",
      "metadata": {
        "colab": {
          "base_uri": "https://localhost:8080/"
        },
        "id": "mwOQV-K6QUI6",
        "outputId": "921eb5d8-cbd5-40c0-eabc-dc5906ba78ab"
      },
      "source": [
        "y,m,d = input().split(\".\")\r\n",
        "print(d,m,y,sep=\"-\")"
      ],
      "execution_count": 47,
      "outputs": [
        {
          "output_type": "stream",
          "text": [
            "2014.07.15\n",
            "15-07-2014\n"
          ],
          "name": "stdout"
        }
      ]
    },
    {
      "cell_type": "markdown",
      "metadata": {
        "id": "5tpiaZkWTjP6"
      },
      "source": [
        "### [기초-출력변환]"
      ]
    },
    {
      "cell_type": "code",
      "metadata": {
        "colab": {
          "base_uri": "https://localhost:8080/"
        },
        "id": "glHrTZ84QuN7",
        "outputId": "7ec3bf96-2bc9-4006-cdc6-93955e7b706a"
      },
      "source": [
        "print(\"%o\" % int(input())) #8진수 변환\r\n",
        "print(\"%x\" % int(input())) #16진수 변환\r\n",
        "print(\"%X\" % int(input())) #16진수 변환"
      ],
      "execution_count": 51,
      "outputs": [
        {
          "output_type": "stream",
          "text": [
            "255\n",
            "377\n",
            "255\n",
            "FF\n"
          ],
          "name": "stdout"
        }
      ]
    },
    {
      "cell_type": "code",
      "metadata": {
        "colab": {
          "base_uri": "https://localhost:8080/"
        },
        "id": "faVWjiE9Solz",
        "outputId": "8788f557-a732-4b76-cdca-2d28b09f2606"
      },
      "source": [
        "print(int(input(),8))"
      ],
      "execution_count": 52,
      "outputs": [
        {
          "output_type": "stream",
          "text": [
            "13\n",
            "11\n"
          ],
          "name": "stdout"
        }
      ]
    },
    {
      "cell_type": "code",
      "metadata": {
        "colab": {
          "base_uri": "https://localhost:8080/"
        },
        "id": "OFQkr0M5BFci",
        "outputId": "2c241eee-0fed-4f35-e9de-a2759c8db45f"
      },
      "source": [
        "print(\"%o\" % int(input(), 16))"
      ],
      "execution_count": 53,
      "outputs": [
        {
          "output_type": "stream",
          "text": [
            "f\n",
            "17\n"
          ],
          "name": "stdout"
        }
      ]
    },
    {
      "cell_type": "code",
      "metadata": {
        "colab": {
          "base_uri": "https://localhost:8080/"
        },
        "id": "NSEQZb1tUdqD",
        "outputId": "47c9ebda-deb6-42eb-d8c1-ddbd75dcf45a"
      },
      "source": [
        "print(ord(input()))"
      ],
      "execution_count": 57,
      "outputs": [
        {
          "output_type": "stream",
          "text": [
            "A\n",
            "65\n"
          ],
          "name": "stdout"
        }
      ]
    },
    {
      "cell_type": "code",
      "metadata": {
        "colab": {
          "base_uri": "https://localhost:8080/"
        },
        "id": "oFpgEzcmVFlG",
        "outputId": "228cc211-12b1-4104-9888-f655a27d75e1"
      },
      "source": [
        "print(chr(int(input())))"
      ],
      "execution_count": 58,
      "outputs": [
        {
          "output_type": "stream",
          "text": [
            "65\n",
            "A\n"
          ],
          "name": "stdout"
        }
      ]
    },
    {
      "cell_type": "markdown",
      "metadata": {
        "id": "FSeUuGNJCSOp"
      },
      "source": [
        "### [기초-산술연산]"
      ]
    },
    {
      "cell_type": "code",
      "metadata": {
        "colab": {
          "base_uri": "https://localhost:8080/"
        },
        "id": "ePh5lKXHBnzn",
        "outputId": "77a4abe5-f52c-4b8f-cb7d-a776aa586334"
      },
      "source": [
        "a, b = map(int, input().split())\r\n",
        "print(a+b)"
      ],
      "execution_count": 59,
      "outputs": [
        {
          "output_type": "stream",
          "text": [
            "123 -123\n",
            "0\n"
          ],
          "name": "stdout"
        }
      ]
    },
    {
      "cell_type": "code",
      "metadata": {
        "id": "CyVLlmAkCP3B",
        "colab": {
          "base_uri": "https://localhost:8080/"
        },
        "outputId": "ef13da3d-d403-4582-995e-49c968f3963c"
      },
      "source": [
        "print(int(input())*-1)"
      ],
      "execution_count": 61,
      "outputs": [
        {
          "output_type": "stream",
          "text": [
            "-1\n",
            "1\n"
          ],
          "name": "stdout"
        }
      ]
    },
    {
      "cell_type": "code",
      "metadata": {
        "colab": {
          "base_uri": "https://localhost:8080/"
        },
        "id": "0yty10rmWKc2",
        "outputId": "9a5b5a31-893c-4602-acc5-741f131ee821"
      },
      "source": [
        "print(chr(ord(input())+1))"
      ],
      "execution_count": 62,
      "outputs": [
        {
          "output_type": "stream",
          "text": [
            "A\n",
            "B\n"
          ],
          "name": "stdout"
        }
      ]
    },
    {
      "cell_type": "code",
      "metadata": {
        "colab": {
          "base_uri": "https://localhost:8080/"
        },
        "id": "nFNHeeHAW9_k",
        "outputId": "710dd0c1-9b4e-4e0b-d43f-fddd49c00bfb"
      },
      "source": [
        "a, b = map(int, input().split())\r\n",
        "print(a//b)"
      ],
      "execution_count": 68,
      "outputs": [
        {
          "output_type": "stream",
          "text": [
            "1 3\n",
            "0\n"
          ],
          "name": "stdout"
        }
      ]
    },
    {
      "cell_type": "code",
      "metadata": {
        "colab": {
          "base_uri": "https://localhost:8080/"
        },
        "id": "6C0Hx-QKXSs6",
        "outputId": "e8e72217-7a05-427d-adf7-ced83aa4b22c"
      },
      "source": [
        "print(int(input())+1)"
      ],
      "execution_count": 69,
      "outputs": [
        {
          "output_type": "stream",
          "text": [
            "2147483647\n",
            "2147483648\n"
          ],
          "name": "stdout"
        }
      ]
    },
    {
      "cell_type": "code",
      "metadata": {
        "colab": {
          "base_uri": "https://localhost:8080/"
        },
        "id": "-vJUuW3JXzGV",
        "outputId": "9ff60754-8d92-4853-ed9e-f00234f53765"
      },
      "source": [
        "a, b = map(int, input().split())\r\n",
        "print(a+b)\r\n",
        "print(a-b)\r\n",
        "print(a*b)\r\n",
        "print(a//b)\r\n",
        "print(a%b)\r\n",
        "print(\"%.2f\" % float(a/b))"
      ],
      "execution_count": 73,
      "outputs": [
        {
          "output_type": "stream",
          "text": [
            "10 3\n",
            "13\n",
            "7\n",
            "30\n",
            "3\n",
            "1\n",
            "3.33\n"
          ],
          "name": "stdout"
        }
      ]
    },
    {
      "cell_type": "code",
      "metadata": {
        "colab": {
          "base_uri": "https://localhost:8080/"
        },
        "id": "4YCCx9FaYVpk",
        "outputId": "c80e0a56-1b08-4308-efe5-acdcefa58431"
      },
      "source": [
        "nums = list(map(int, input().split()))\r\n",
        "sum = 0\r\n",
        "for i in nums:\r\n",
        "  sum += i\r\n",
        "print(sum,\"%.1f\" % float(sum/len(nums)),sep=\"\\n\")"
      ],
      "execution_count": 78,
      "outputs": [
        {
          "output_type": "stream",
          "text": [
            "1 2 3\n",
            "6\n",
            "2.0\n"
          ],
          "name": "stdout"
        }
      ]
    },
    {
      "cell_type": "markdown",
      "metadata": {
        "id": "zmSsHBeVaDqt"
      },
      "source": [
        "### [기초-비트시프트연산]"
      ]
    },
    {
      "cell_type": "code",
      "metadata": {
        "colab": {
          "base_uri": "https://localhost:8080/"
        },
        "id": "oejzXvHvZeCa",
        "outputId": "55f87e5b-16d3-41cb-b57b-05da8b921281"
      },
      "source": [
        "print(int(input())<<1)"
      ],
      "execution_count": 80,
      "outputs": [
        {
          "output_type": "stream",
          "text": [
            "1024\n",
            "2048\n"
          ],
          "name": "stdout"
        }
      ]
    },
    {
      "cell_type": "code",
      "metadata": {
        "colab": {
          "base_uri": "https://localhost:8080/"
        },
        "id": "0e1ZsxsNajZm",
        "outputId": "ea56478b-09f9-4b88-a413-47649a334489"
      },
      "source": [
        "a, b = map(int, input().split())\r\n",
        "print(a << b)"
      ],
      "execution_count": 81,
      "outputs": [
        {
          "output_type": "stream",
          "text": [
            "1 3\n",
            "8\n"
          ],
          "name": "stdout"
        }
      ]
    },
    {
      "cell_type": "markdown",
      "metadata": {
        "id": "1GK9XDQgbDft"
      },
      "source": [
        "### [기초-비교연산]"
      ]
    },
    {
      "cell_type": "code",
      "metadata": {
        "colab": {
          "base_uri": "https://localhost:8080/"
        },
        "id": "L6yZkJq5a7HT",
        "outputId": "68d09d33-b0d1-47b4-b877-c053fefe94a1"
      },
      "source": [
        "a, b = map(int, input().split())\r\n",
        "print(1 if a>b else 0)"
      ],
      "execution_count": 83,
      "outputs": [
        {
          "output_type": "stream",
          "text": [
            "9 1\n",
            "1\n"
          ],
          "name": "stdout"
        }
      ]
    },
    {
      "cell_type": "code",
      "metadata": {
        "colab": {
          "base_uri": "https://localhost:8080/"
        },
        "id": "H3p_p5VKbXXn",
        "outputId": "eee1dc4c-3cb5-4538-e1ca-eb3cbee9def1"
      },
      "source": [
        "a, b = map(int, input().split())\r\n",
        "print(1 if a==b else 0)"
      ],
      "execution_count": 84,
      "outputs": [
        {
          "output_type": "stream",
          "text": [
            "0 0\n",
            "1\n"
          ],
          "name": "stdout"
        }
      ]
    },
    {
      "cell_type": "markdown",
      "metadata": {
        "id": "ajRot5jkcnX1"
      },
      "source": [
        "### [기초-논리연산]"
      ]
    },
    {
      "cell_type": "code",
      "metadata": {
        "colab": {
          "base_uri": "https://localhost:8080/"
        },
        "id": "wo4O4sqlcJQy",
        "outputId": "4c161a8a-7ac8-4ddb-b99b-824d204d07db"
      },
      "source": [
        "n = input()\r\n",
        "if n==\"1\":\r\n",
        "  print(0)\r\n",
        "elif n==\"0\":\r\n",
        "  print(1)"
      ],
      "execution_count": 85,
      "outputs": [
        {
          "output_type": "stream",
          "text": [
            "1\n",
            "0\n"
          ],
          "name": "stdout"
        }
      ]
    },
    {
      "cell_type": "code",
      "metadata": {
        "colab": {
          "base_uri": "https://localhost:8080/"
        },
        "id": "GPz35-J8dPfL",
        "outputId": "eb59143d-9ed5-4faa-fdf7-12f6fd328e16"
      },
      "source": [
        "a, b = map(int, input().split())\r\n",
        "if a==b and a==1:\r\n",
        "  print(1)\r\n",
        "else:\r\n",
        "  print(0)"
      ],
      "execution_count": 87,
      "outputs": [
        {
          "output_type": "stream",
          "text": [
            "1 1\n",
            "1\n"
          ],
          "name": "stdout"
        }
      ]
    },
    {
      "cell_type": "code",
      "metadata": {
        "colab": {
          "base_uri": "https://localhost:8080/"
        },
        "id": "sxUDgo2Vdfce",
        "outputId": "42955651-3c2c-4c1f-b990-81f2f9a33eff"
      },
      "source": [
        "a, b = map(int, input().split())\r\n",
        "if a==1 or b==1:\r\n",
        "  print(1)\r\n",
        "else:\r\n",
        "  print(0)"
      ],
      "execution_count": 90,
      "outputs": [
        {
          "output_type": "stream",
          "text": [
            "1 1\n",
            "1\n"
          ],
          "name": "stdout"
        }
      ]
    },
    {
      "cell_type": "markdown",
      "metadata": {
        "id": "13ECuWiVeZby"
      },
      "source": [
        "### [기초-비트단위논리연산]"
      ]
    },
    {
      "cell_type": "code",
      "metadata": {
        "colab": {
          "base_uri": "https://localhost:8080/"
        },
        "id": "luoSvKMWdw18",
        "outputId": "9e65a939-405d-42e8-ab69-43c1e362ac04"
      },
      "source": [
        "print(~int(input())) #NOT"
      ],
      "execution_count": 91,
      "outputs": [
        {
          "output_type": "stream",
          "text": [
            "2\n",
            "-3\n"
          ],
          "name": "stdout"
        }
      ]
    },
    {
      "cell_type": "code",
      "metadata": {
        "colab": {
          "base_uri": "https://localhost:8080/"
        },
        "id": "sGKRTBuzesbo",
        "outputId": "fd0e372b-0541-4989-d9cb-58f5bb40cda6"
      },
      "source": [
        "a, b = map(int, input().split())\r\n",
        "print(a&b) #AND"
      ],
      "execution_count": 94,
      "outputs": [
        {
          "output_type": "stream",
          "text": [
            "3 5\n",
            "1\n"
          ],
          "name": "stdout"
        }
      ]
    },
    {
      "cell_type": "code",
      "metadata": {
        "id": "XnI7jNe4e8Pd"
      },
      "source": [
        "a, b = map(int, input().split())\r\n",
        "print(a|b) #OR"
      ],
      "execution_count": null,
      "outputs": []
    },
    {
      "cell_type": "code",
      "metadata": {
        "id": "dxfgNKqDfTAv"
      },
      "source": [
        "a, b = map(int, input().split())\r\n",
        "print(a^b) #XOR"
      ],
      "execution_count": null,
      "outputs": []
    },
    {
      "cell_type": "markdown",
      "metadata": {
        "id": "c4fwt2AVfkxA"
      },
      "source": [
        "### [기초-삼항연산]"
      ]
    },
    {
      "cell_type": "code",
      "metadata": {
        "colab": {
          "base_uri": "https://localhost:8080/"
        },
        "id": "7p6SgwLYfkBp",
        "outputId": "714ba2b6-05fd-4414-9b31-d4bbf6933e9f"
      },
      "source": [
        "a, b = map(int, input().split())\r\n",
        "print(a if a>b else b)"
      ],
      "execution_count": 95,
      "outputs": [
        {
          "output_type": "stream",
          "text": [
            "123 456\n",
            "456\n"
          ],
          "name": "stdout"
        }
      ]
    },
    {
      "cell_type": "code",
      "metadata": {
        "colab": {
          "base_uri": "https://localhost:8080/"
        },
        "id": "5nqNTidrf2bG",
        "outputId": "3c80d5b6-d7ae-410e-c656-e1295f483972"
      },
      "source": [
        "nums = list(map(int, input().split()))\r\n",
        "print(min(nums))"
      ],
      "execution_count": 96,
      "outputs": [
        {
          "output_type": "stream",
          "text": [
            "3 -1 5\n",
            "-1\n"
          ],
          "name": "stdout"
        }
      ]
    },
    {
      "cell_type": "markdown",
      "metadata": {
        "id": "DPKAxjlVgYbi"
      },
      "source": [
        "### [기초-조건/선택실행구조]"
      ]
    },
    {
      "cell_type": "code",
      "metadata": {
        "colab": {
          "base_uri": "https://localhost:8080/"
        },
        "id": "QRogCMidgQ3I",
        "outputId": "d0ba93fa-1890-453e-97d3-a775cd34027a"
      },
      "source": [
        "nums = list(map(int, input().split()))\r\n",
        "for i in nums:\r\n",
        "  if i%2==0:\r\n",
        "    print(i)"
      ],
      "execution_count": 97,
      "outputs": [
        {
          "output_type": "stream",
          "text": [
            "1 2 4\n",
            "2\n",
            "4\n"
          ],
          "name": "stdout"
        }
      ]
    },
    {
      "cell_type": "code",
      "metadata": {
        "colab": {
          "base_uri": "https://localhost:8080/"
        },
        "id": "45wRu2DQgs0J",
        "outputId": "5b470133-145a-41fd-ac77-e5e3a37616f3"
      },
      "source": [
        "n = int(input())\r\n",
        "if (n>0):\r\n",
        "  print(\"plus\")\r\n",
        "else:\r\n",
        "  print(\"minus\")\r\n",
        "if (n%2==0):\r\n",
        "  print(\"even\")\r\n",
        "else:\r\n",
        "  print(\"odd\")"
      ],
      "execution_count": 98,
      "outputs": [
        {
          "output_type": "stream",
          "text": [
            "-2147483648\n",
            "minus\n",
            "even\n"
          ],
          "name": "stdout"
        }
      ]
    },
    {
      "cell_type": "code",
      "metadata": {
        "colab": {
          "base_uri": "https://localhost:8080/"
        },
        "id": "7L4qK2lmhcEn",
        "outputId": "9897d1ad-f1f4-4da4-c698-8bf7f117c1cb"
      },
      "source": [
        "n = int(input())\r\n",
        "if n>89:\r\n",
        "  print(\"A\")\r\n",
        "elif n>69:\r\n",
        "  print(\"B\")\r\n",
        "elif n>39:\r\n",
        "  print(\"C\")\r\n",
        "else:\r\n",
        "  print(\"D\")"
      ],
      "execution_count": 99,
      "outputs": [
        {
          "output_type": "stream",
          "text": [
            "73\n",
            "B\n"
          ],
          "name": "stdout"
        }
      ]
    },
    {
      "cell_type": "code",
      "metadata": {
        "colab": {
          "base_uri": "https://localhost:8080/"
        },
        "id": "StE2lBvfiAXe",
        "outputId": "d1fdf449-f2cf-4114-8fe0-5c7f5ee39a57"
      },
      "source": [
        "c = input();\r\n",
        "if c==\"A\":\r\n",
        "  print(\"best!!!\")\r\n",
        "elif c==\"B\":\r\n",
        "  print(\"good!!\")\r\n",
        "elif c==\"C\":\r\n",
        "  print(\"run!\")\r\n",
        "elif c==\"D\":\r\n",
        "  print(\"slowly~\")\r\n",
        "else:\r\n",
        "  print(\"what?\")"
      ],
      "execution_count": 100,
      "outputs": [
        {
          "output_type": "stream",
          "text": [
            "A\n",
            "best!!!\n"
          ],
          "name": "stdout"
        }
      ]
    },
    {
      "cell_type": "code",
      "metadata": {
        "id": "pzabWBj-isNu"
      },
      "source": [
        "n = int(input());\r\n",
        "if 1<=n<=2 or n==12:\r\n",
        "  print(\"winter\")\r\n",
        "elif 3<=n<=5:\r\n",
        "  print(\"spring\")\r\n",
        "elif 6<=n<=8:\r\n",
        "  print(\"summer\")\r\n",
        "elif 9<=n<=11:\r\n",
        "  print(\"fall\")"
      ],
      "execution_count": null,
      "outputs": []
    },
    {
      "cell_type": "markdown",
      "metadata": {
        "id": "fSkBFG-rju4e"
      },
      "source": [
        "### [기초-반복실행구조]"
      ]
    },
    {
      "cell_type": "code",
      "metadata": {
        "colab": {
          "base_uri": "https://localhost:8080/"
        },
        "id": "G48SGzavjxjn",
        "outputId": "1b16607d-0597-46f5-c45f-44d9d55ce0f3"
      },
      "source": [
        "nums = list(map(int, input().split()))\r\n",
        "for i in nums:\r\n",
        "  if i==0:\r\n",
        "    break\r\n",
        "  print(i)"
      ],
      "execution_count": 101,
      "outputs": [
        {
          "output_type": "stream",
          "text": [
            "7 4 2 3 0 1 5 6 9 10 8\n",
            "7\n",
            "4\n",
            "2\n",
            "3\n"
          ],
          "name": "stdout"
        }
      ]
    },
    {
      "cell_type": "code",
      "metadata": {
        "colab": {
          "base_uri": "https://localhost:8080/"
        },
        "id": "QX7Pj7oukBmR",
        "outputId": "7f25ad79-64a1-4924-d1b8-6ed6428a532b"
      },
      "source": [
        "input()\r\n",
        "nums = list(map(int, input().split()))\r\n",
        "for i in nums:\r\n",
        "  print(i)"
      ],
      "execution_count": 102,
      "outputs": [
        {
          "output_type": "stream",
          "text": [
            "5\n",
            "1 2 3 4 5\n",
            "1\n",
            "2\n",
            "3\n",
            "4\n",
            "5\n"
          ],
          "name": "stdout"
        }
      ]
    },
    {
      "cell_type": "code",
      "metadata": {
        "colab": {
          "base_uri": "https://localhost:8080/"
        },
        "id": "8_ypgCqnkRbA",
        "outputId": "5f80830b-7d34-4ae8-f564-f0453c7a853c"
      },
      "source": [
        "for i in range(int(input()),0,-1):\r\n",
        "  print(i)"
      ],
      "execution_count": 103,
      "outputs": [
        {
          "output_type": "stream",
          "text": [
            "5\n",
            "5\n",
            "4\n",
            "3\n",
            "2\n",
            "1\n"
          ],
          "name": "stdout"
        }
      ]
    },
    {
      "cell_type": "code",
      "metadata": {
        "colab": {
          "base_uri": "https://localhost:8080/"
        },
        "id": "FdCMjYgzkyVr",
        "outputId": "131e7962-2abe-44ba-9839-174ea462f311"
      },
      "source": [
        "char = \"a\";\r\n",
        "for i in range(ord(input())-ord(char)+1):\r\n",
        "  print(char)\r\n",
        "  char = chr(ord(char)+1)"
      ],
      "execution_count": 107,
      "outputs": [
        {
          "output_type": "stream",
          "text": [
            "f\n",
            "a\n",
            "b\n",
            "c\n",
            "d\n",
            "e\n",
            "f\n"
          ],
          "name": "stdout"
        }
      ]
    },
    {
      "cell_type": "markdown",
      "metadata": {
        "id": "j4OdVKPHmKER"
      },
      "source": [
        "### [기초-종합] "
      ]
    },
    {
      "cell_type": "code",
      "metadata": {
        "colab": {
          "base_uri": "https://localhost:8080/"
        },
        "id": "_JBW_gDRllMe",
        "outputId": "05e953dc-032f-4261-96ad-02d18c41ae74"
      },
      "source": [
        "n = int(input())\r\n",
        "sum = 0\r\n",
        "for i in range(n+1):\r\n",
        "  if(i%2==0):\r\n",
        "    sum+=i\r\n",
        "print(sum)"
      ],
      "execution_count": 110,
      "outputs": [
        {
          "output_type": "stream",
          "text": [
            "5\n",
            "6\n"
          ],
          "name": "stdout"
        }
      ]
    },
    {
      "cell_type": "code",
      "metadata": {
        "colab": {
          "base_uri": "https://localhost:8080/"
        },
        "id": "yZJT43cemc1w",
        "outputId": "22b3e483-0ade-4ce8-81ad-66a63699e8a9"
      },
      "source": [
        "chars = input().split()\r\n",
        "for i in chars:\r\n",
        "  print(i)\r\n",
        "  if i== \"q\":\r\n",
        "    break"
      ],
      "execution_count": 111,
      "outputs": [
        {
          "output_type": "stream",
          "text": [
            "x b k d l q g a c\n",
            "x\n",
            "b\n",
            "k\n",
            "d\n",
            "l\n",
            "q\n"
          ],
          "name": "stdout"
        }
      ]
    },
    {
      "cell_type": "code",
      "metadata": {
        "colab": {
          "base_uri": "https://localhost:8080/"
        },
        "id": "itMYgApxm7SB",
        "outputId": "ba111f7d-5a40-4a95-ce16-a0a58ed896ff"
      },
      "source": [
        "n = int(input())\r\n",
        "sum = 0\r\n",
        "add = 0\r\n",
        "while sum<n:\r\n",
        "  add += 1\r\n",
        "  sum += add\r\n",
        "print(add)"
      ],
      "execution_count": 120,
      "outputs": [
        {
          "output_type": "stream",
          "text": [
            "55\n",
            "10\n"
          ],
          "name": "stdout"
        }
      ]
    },
    {
      "cell_type": "code",
      "metadata": {
        "colab": {
          "base_uri": "https://localhost:8080/"
        },
        "id": "2miuqiYzncMG",
        "outputId": "0edce59c-b5d4-4426-9182-a3e7e1f63d28"
      },
      "source": [
        "a, b = map(int, input().split())\r\n",
        "for i in range(a):\r\n",
        "  for j in range(b):\r\n",
        "    print(i+1,j+1)"
      ],
      "execution_count": 122,
      "outputs": [
        {
          "output_type": "stream",
          "text": [
            "2 3\n",
            "1 1\n",
            "1 2\n",
            "1 3\n",
            "2 1\n",
            "2 2\n",
            "2 3\n"
          ],
          "name": "stdout"
        }
      ]
    },
    {
      "cell_type": "code",
      "metadata": {
        "colab": {
          "base_uri": "https://localhost:8080/"
        },
        "id": "rlW_jh6Uovyx",
        "outputId": "374964d6-36cc-441b-ac70-38654c78545b"
      },
      "source": [
        "n = int(input(),16)\r\n",
        "for i in range(1,16):\r\n",
        "  print(\"%X\" % n,\"*\",\"%X\" % i,\"=\",\"%X\" % int(n*i), sep=\"\")"
      ],
      "execution_count": 124,
      "outputs": [
        {
          "output_type": "stream",
          "text": [
            "B\n",
            "B*1=B\n",
            "B*2=16\n",
            "B*3=21\n",
            "B*4=2C\n",
            "B*5=37\n",
            "B*6=42\n",
            "B*7=4D\n",
            "B*8=58\n",
            "B*9=63\n",
            "B*A=6E\n",
            "B*B=79\n",
            "B*C=84\n",
            "B*D=8F\n",
            "B*E=9A\n",
            "B*F=A5\n"
          ],
          "name": "stdout"
        }
      ]
    },
    {
      "cell_type": "code",
      "metadata": {
        "colab": {
          "base_uri": "https://localhost:8080/"
        },
        "id": "dspRPSTqqE6K",
        "outputId": "6a95678f-9ffd-4f84-804b-fdbadccded42"
      },
      "source": [
        "n = int(input())\r\n",
        "for i in range(1,n+1):\r\n",
        "  if(i==3 or i==6 or i==9):\r\n",
        "    print(\"X\",end=\" \")\r\n",
        "  else:\r\n",
        "    print(i,end=\" \")\r\n"
      ],
      "execution_count": 127,
      "outputs": [
        {
          "output_type": "stream",
          "text": [
            "9\n",
            "1 2 X 4 5 X 7 8 X "
          ],
          "name": "stdout"
        }
      ]
    },
    {
      "cell_type": "code",
      "metadata": {
        "colab": {
          "base_uri": "https://localhost:8080/"
        },
        "id": "RNOBj1IqrA98",
        "outputId": "8b3ff999-e3ba-489f-8fe4-05978b92bb50"
      },
      "source": [
        "r,g,b = map(int,input().split())\r\n",
        "for i in range(r):\r\n",
        "  for j in range(g):\r\n",
        "    for k in range(b):\r\n",
        "      print(i,j,k)\r\n",
        "print(r*g*b)"
      ],
      "execution_count": 128,
      "outputs": [
        {
          "output_type": "stream",
          "text": [
            "2 2 2\n",
            "0 0 0\n",
            "0 0 1\n",
            "0 1 0\n",
            "0 1 1\n",
            "1 0 0\n",
            "1 0 1\n",
            "1 1 0\n",
            "1 1 1\n",
            "8\n"
          ],
          "name": "stdout"
        }
      ]
    },
    {
      "cell_type": "code",
      "metadata": {
        "colab": {
          "base_uri": "https://localhost:8080/"
        },
        "id": "NevWiyAysGJM",
        "outputId": "3ad07922-75e7-4cf2-8a08-3fdbfa66145c"
      },
      "source": [
        "bits = list(map(int, input().split()))\r\n",
        "total = 1\r\n",
        "for i in bits:\r\n",
        "  total *= i\r\n",
        "print(\"%.1f\" % float(total/(2**23)), \"MB\")"
      ],
      "execution_count": 143,
      "outputs": [
        {
          "output_type": "stream",
          "text": [
            "44100 16 2 10\n",
            "1.7 MB\n"
          ],
          "name": "stdout"
        }
      ]
    },
    {
      "cell_type": "code",
      "metadata": {
        "colab": {
          "base_uri": "https://localhost:8080/"
        },
        "id": "A8ac8g6wtN9f",
        "outputId": "f89441e5-5ed7-429c-c7de-dbac1a30496d"
      },
      "source": [
        "n = int(input())\r\n",
        "sum = 0\r\n",
        "add = 0\r\n",
        "while sum<n:\r\n",
        "  add += 1\r\n",
        "  sum += add\r\n",
        "print(sum)"
      ],
      "execution_count": 144,
      "outputs": [
        {
          "output_type": "stream",
          "text": [
            "57\n",
            "66\n"
          ],
          "name": "stdout"
        }
      ]
    },
    {
      "cell_type": "code",
      "metadata": {
        "colab": {
          "base_uri": "https://localhost:8080/"
        },
        "id": "rH6owbA1u4Fm",
        "outputId": "3f4e4148-f6d4-4153-ec23-4516e1313978"
      },
      "source": [
        "s, d, n = map(int, input().split())\r\n",
        "for i in range(n-1):\r\n",
        "  s += d\r\n",
        "print(s)"
      ],
      "execution_count": 146,
      "outputs": [
        {
          "output_type": "stream",
          "text": [
            "1 3 5\n",
            "13\n"
          ],
          "name": "stdout"
        }
      ]
    },
    {
      "cell_type": "markdown",
      "metadata": {
        "id": "MrYKtn1Nympa"
      },
      "source": [
        "#### lcm, gcd"
      ]
    },
    {
      "cell_type": "code",
      "metadata": {
        "colab": {
          "base_uri": "https://localhost:8080/"
        },
        "id": "uizjVsiqv7pn",
        "outputId": "b4d9018c-c81d-4598-f3a0-4f927f1347a2"
      },
      "source": [
        "def lcm(n, m):\r\n",
        "  for i in range(1, n+1):\r\n",
        "    if n%i==0 and m%i==0:\r\n",
        "      gcd = i\r\n",
        "  return gcd*(n//gcd)*(m//gcd)\r\n",
        "\r\n",
        "a, b, c = map(int, input().split())\r\n",
        "print(lcm(lcm(a,b),c))"
      ],
      "execution_count": 147,
      "outputs": [
        {
          "output_type": "stream",
          "text": [
            "3 7 9\n",
            "63\n"
          ],
          "name": "stdout"
        }
      ]
    },
    {
      "cell_type": "markdown",
      "metadata": {
        "id": "pgnuhhUEzwmg"
      },
      "source": [
        "### [기초-1차원배열]"
      ]
    },
    {
      "cell_type": "code",
      "metadata": {
        "id": "zGvga_4Izn5t"
      },
      "source": [
        ""
      ],
      "execution_count": null,
      "outputs": []
    }
  ]
}