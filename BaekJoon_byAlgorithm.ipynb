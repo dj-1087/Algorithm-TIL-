{
  "nbformat": 4,
  "nbformat_minor": 0,
  "metadata": {
    "colab": {
      "name": "BaekJoon_byAlgorithm.ipynb",
      "provenance": [],
      "collapsed_sections": [],
      "authorship_tag": "ABX9TyMkGx6yFKWr/0c7pAMVbhKY",
      "include_colab_link": true
    },
    "kernelspec": {
      "name": "python3",
      "display_name": "Python 3"
    }
  },
  "cells": [
    {
      "cell_type": "markdown",
      "metadata": {
        "id": "view-in-github",
        "colab_type": "text"
      },
      "source": [
        "<a href=\"https://colab.research.google.com/github/dj-1087/Algorithm-TIL-/blob/master/BaekJoon_byAlgorithm.ipynb\" target=\"_parent\"><img src=\"https://colab.research.google.com/assets/colab-badge.svg\" alt=\"Open In Colab\"/></a>"
      ]
    },
    {
      "cell_type": "code",
      "metadata": {
        "id": "02jn24Qjl3V3",
        "colab": {
          "base_uri": "https://localhost:8080/"
        },
        "outputId": "100f4935-fc0e-4bc9-d728-44d381dba1f4"
      },
      "source": [
        "from google.colab import auth\r\n",
        "auth.authenticate_user()\r\n",
        "from google.colab import drive\r\n",
        "drive.mount('/content/gdrive')"
      ],
      "execution_count": null,
      "outputs": [
        {
          "output_type": "stream",
          "text": [
            "Drive already mounted at /content/gdrive; to attempt to forcibly remount, call drive.mount(\"/content/gdrive\", force_remount=True).\n"
          ],
          "name": "stdout"
        }
      ]
    },
    {
      "cell_type": "markdown",
      "metadata": {
        "id": "A3X5WKxCeZ9_"
      },
      "source": [
        "# 완전탐색 (Brute-force Search)"
      ]
    },
    {
      "cell_type": "markdown",
      "metadata": {
        "id": "-TDpTakJeiB1"
      },
      "source": [
        "2309"
      ]
    },
    {
      "cell_type": "code",
      "metadata": {
        "id": "VHtHUZnaUkdK"
      },
      "source": [
        "a = []\r\n",
        "for i in range(9):\r\n",
        "    a.append(int(input()))\r\n",
        "A = sum(a)\r\n",
        "x = 0\r\n",
        "y = 0\r\n",
        "for i in range(9):\r\n",
        "    for j in range(9):\r\n",
        "        if i == j:\r\n",
        "            continue\r\n",
        "        if A-a[i]-a[j] == 100:\r\n",
        "            x = a[i]\r\n",
        "            y = a[j]\r\n",
        "            break\r\n",
        "a.remove(x)\r\n",
        "a.remove(y)\r\n",
        "a.sort()\r\n",
        "for i in a:\r\n",
        "    print(i)"
      ],
      "execution_count": null,
      "outputs": []
    },
    {
      "cell_type": "markdown",
      "metadata": {
        "id": "c7bfyaX1w1wT"
      },
      "source": [
        "2231"
      ]
    },
    {
      "cell_type": "code",
      "metadata": {
        "id": "oCSxLiNfaZ7r"
      },
      "source": [
        "n = int(input())\r\n",
        "k = 0\r\n",
        "for i in range(n+1):\r\n",
        "    n_pred = i\r\n",
        "    for j in str(i):\r\n",
        "        n_pred += int(j)\r\n",
        "    if n_pred == n:\r\n",
        "        k = i\r\n",
        "        break\r\n",
        "print(k)\r\n"
      ],
      "execution_count": null,
      "outputs": []
    },
    {
      "cell_type": "markdown",
      "metadata": {
        "id": "TUxLS4aV2dqJ"
      },
      "source": [
        "3085"
      ]
    },
    {
      "cell_type": "code",
      "metadata": {
        "id": "boiNhB3MaFCd"
      },
      "source": [
        "def check(baord):\r\n",
        "    cnt = 1\r\n",
        "    for i in range(N):\r\n",
        "        cnt_row = 1\r\n",
        "        cnt_col = 1\r\n",
        "        for j in range(N-1):\r\n",
        "            if baord[i][j] == board[i][j+1]:\r\n",
        "                cnt_row += 1\r\n",
        "            else:\r\n",
        "                cnt = max(cnt, cnt_row)\r\n",
        "                cnt_row = 1\r\n",
        "            if board[j][i] == board[j+1][i]:\r\n",
        "                cnt_col += 1\r\n",
        "            else:\r\n",
        "                cnt = max(cnt, cnt_col)\r\n",
        "                cnt_col = 1\r\n",
        "        cnt = max(cnt, cnt_row, cnt_col)\r\n",
        "    return cnt\r\n",
        "\r\n",
        "\r\n",
        "N = int(input())\r\n",
        "board = [list(input()) for _ in range(N)]\r\n",
        "res = 0\r\n",
        "\r\n",
        "for i in range(N):\r\n",
        "    for j in range(N-1):\r\n",
        "        if board[i][j] != board[i][j+1]:\r\n",
        "            tmp = board[i][j]\r\n",
        "            board[i][j] = board[i][j+1]\r\n",
        "            board[i][j+1] = tmp\r\n",
        "\r\n",
        "            res = max(res, check(board))\r\n",
        "\r\n",
        "            tmp = board[i][j]\r\n",
        "            board[i][j] = board[i][j+1]\r\n",
        "            board[i][j+1] = tmp\r\n",
        "\r\n",
        "        if board[j][i] != board[j+1][i]:\r\n",
        "            tmp = board[j][i]\r\n",
        "            board[j][i] = board[j+1][i]\r\n",
        "            board[j+1][i] = tmp\r\n",
        "\r\n",
        "            res = max(res, check(board))\r\n",
        "\r\n",
        "            tmp = board[j][i]\r\n",
        "            board[j][i] = board[j+1][i]\r\n",
        "            board[j+1][i] = tmp\r\n",
        "\r\n",
        "print(res)"
      ],
      "execution_count": null,
      "outputs": []
    },
    {
      "cell_type": "markdown",
      "metadata": {
        "id": "5DaZOLcoJGon"
      },
      "source": [
        "10448"
      ]
    },
    {
      "cell_type": "code",
      "metadata": {
        "id": "F2gZBhZBJJi-"
      },
      "source": [
        "li = []\r\n",
        "for _ in range(int(input())):\r\n",
        "    li.append(int(input()))\r\n",
        "\r\n",
        "T = [0]*(max(li)+1)\r\n",
        "cache = [0]*1001\r\n",
        "for i in range(1, len(T)):\r\n",
        "    T[i] = int(i*(i+1)/2)\r\n",
        "\r\n",
        "for i in range(1, len(T)):\r\n",
        "    for j in range(1, len(T)):\r\n",
        "        for k in range(1, len(T)):\r\n",
        "            if T[i]+T[j]+T[k] < 1001:\r\n",
        "                cache[T[i]+T[j]+T[k]] = 1\r\n",
        "            else:\r\n",
        "                break\r\n",
        "\r\n",
        "for i in li:\r\n",
        "    print(cache[i])"
      ],
      "execution_count": null,
      "outputs": []
    },
    {
      "cell_type": "markdown",
      "metadata": {
        "id": "3xrt1u0cBcK4"
      },
      "source": [
        "2503"
      ]
    },
    {
      "cell_type": "code",
      "metadata": {
        "id": "-rKLOXTABdIb"
      },
      "source": [
        "def check(num, s, b):\r\n",
        "    num_one = int(num[0])\r\n",
        "    num_two = int(num[1])\r\n",
        "    num_three = int(num[2])\r\n",
        "    for i in range(100, 1000):\r\n",
        "        if res[i]:\r\n",
        "            res_one = int(i/100)\r\n",
        "            res_two = int((i % 100)/10)\r\n",
        "            res_three = i % 10\r\n",
        "            res_s = 0\r\n",
        "            res_b = 0\r\n",
        "            if num_one == res_one:\r\n",
        "                res_s += 1\r\n",
        "            elif num_one == res_two or num_one == res_three:\r\n",
        "                res_b += 1\r\n",
        "\r\n",
        "            if num_two == res_two:\r\n",
        "                res_s += 1\r\n",
        "            elif num_two == res_one or num_two == res_three:\r\n",
        "                res_b += 1\r\n",
        "\r\n",
        "            if num_three == res_three:\r\n",
        "                res_s += 1\r\n",
        "            elif num_three == res_one or num_three == res_two:\r\n",
        "                res_b += 1\r\n",
        "            if s != res_s or b != res_b:\r\n",
        "                res[i] = False\r\n",
        "\r\n",
        "\r\n",
        "res = [True for _ in range(1000)]\r\n",
        "for i in range(100, 1000):\r\n",
        "    one = int(i/100)\r\n",
        "    two = int((i % 100)/10)\r\n",
        "    three = i % 10\r\n",
        "    if one == two or two == three or three == one:\r\n",
        "        res[i] = False\r\n",
        "    if one == 0 or two == 0 or three == 0:\r\n",
        "        res[i] = False\r\n",
        "\r\n",
        "N = int(input())\r\n",
        "num, s, b = 0, 0, 0\r\n",
        "for i in range(N):\r\n",
        "    num, s, b = map(int, input().split())\r\n",
        "    num = str(num)\r\n",
        "\r\n",
        "    check(num, s, b)\r\n",
        "\r\n",
        "cnt = 0\r\n",
        "for i in range(100, 1000):\r\n",
        "    if res[i]:\r\n",
        "        cnt += 1\r\n",
        "print(cnt)"
      ],
      "execution_count": null,
      "outputs": []
    },
    {
      "cell_type": "markdown",
      "metadata": {
        "id": "joiyuhjfCbCr"
      },
      "source": [
        "1018"
      ]
    },
    {
      "cell_type": "code",
      "metadata": {
        "id": "YSNcouhxCcdh"
      },
      "source": [
        "N, M = map(int, input().split())\r\n",
        "\r\n",
        "board = []  # 입력 받은 보드\r\n",
        "mini = []  # 최소 횟수 경우의 수\r\n",
        "\r\n",
        "for _ in range(N):\r\n",
        "    board.append(input())\r\n",
        "\r\n",
        "for a in range(0, N-7):\r\n",
        "    for b in range(0, M-7):\r\n",
        "        cnt_b = 0\r\n",
        "        cnt_w = 0\r\n",
        "        for i in range(a, a+8):\r\n",
        "            for j in range(b, b+8):\r\n",
        "                if (i+j) % 2 == 0:\r\n",
        "                    if board[i][j] != 'B':\r\n",
        "                        cnt_b += 1\r\n",
        "                    if board[i][j] != 'W':\r\n",
        "                        cnt_w += 1\r\n",
        "                else:\r\n",
        "                    if board[i][j] != 'W':\r\n",
        "                        cnt_b += 1\r\n",
        "                    if board[i][j] != 'B':\r\n",
        "                        cnt_w += 1\r\n",
        "        mini.append(cnt_b)\r\n",
        "        mini.append(cnt_w)\r\n",
        "print(min(mini))"
      ],
      "execution_count": null,
      "outputs": []
    },
    {
      "cell_type": "markdown",
      "metadata": {
        "id": "EuMGCjW4YJa7"
      },
      "source": [
        "1182"
      ]
    },
    {
      "cell_type": "code",
      "metadata": {
        "id": "F8ACl3OdYkKP"
      },
      "source": [
        "def check(i, d):\r\n",
        "    global cnt\r\n",
        "    if i >= N:\r\n",
        "        if d == S:\r\n",
        "            cnt += 1\r\n",
        "            return\r\n",
        "    else:\r\n",
        "        check(i+1, d+li[i])\r\n",
        "        check(i+1, d)\r\n",
        "\r\n",
        "\r\n",
        "N, S = map(int, input().split())\r\n",
        "li = list(map(int, input().split()))\r\n",
        "cnt = 0\r\n",
        "\r\n",
        "check(0, 0)\r\n",
        "\r\n",
        "if S:\r\n",
        "    print(cnt)\r\n",
        "else:\r\n",
        "    print(cnt-1)"
      ],
      "execution_count": null,
      "outputs": []
    },
    {
      "cell_type": "markdown",
      "metadata": {
        "id": "y-gJZjtWUYXf"
      },
      "source": [
        "# 그리디 알고리즘(Greedy Algorithm)"
      ]
    },
    {
      "cell_type": "markdown",
      "metadata": {
        "id": "O8i0pXAtVlG3"
      },
      "source": [
        "4796"
      ]
    },
    {
      "cell_type": "code",
      "metadata": {
        "id": "qetNhToXUr4G"
      },
      "source": [
        "def check(L, P, V):\r\n",
        "    a = 0\r\n",
        "    if V % P > L:\r\n",
        "        a = L\r\n",
        "    else:\r\n",
        "        a = V % P\r\n",
        "    return L*int(V/P)+a\r\n",
        "\r\n",
        "\r\n",
        "idx = 0\r\n",
        "while True:\r\n",
        "    L, P, V = map(int, input().split())\r\n",
        "    idx += 1\r\n",
        "    if(L == 0 and P == 0 and V == 0):\r\n",
        "        break\r\n",
        "    print(f\"Case {idx}: {check(L, P, V)}\")"
      ],
      "execution_count": null,
      "outputs": []
    },
    {
      "cell_type": "markdown",
      "metadata": {
        "id": "V3h9o3UzYEE1"
      },
      "source": [
        "1449"
      ]
    },
    {
      "cell_type": "code",
      "metadata": {
        "id": "nysSWxg8YLCV"
      },
      "source": [
        "N, L = map(int, input().split())\r\n",
        "li = list(map(int, input().split()))\r\n",
        "li.sort()\r\n",
        "start = li[0]\r\n",
        "end = li[0]+L-1\r\n",
        "cnt = 1\r\n",
        "for i in range(N):\r\n",
        "    if start <= li[i] <= end:\r\n",
        "        continue\r\n",
        "    else:\r\n",
        "        start = li[i]\r\n",
        "        end = li[i]+L-1\r\n",
        "        cnt += 1\r\n",
        "\r\n",
        "print(cnt)"
      ],
      "execution_count": null,
      "outputs": []
    },
    {
      "cell_type": "markdown",
      "metadata": {
        "id": "hmn5URPDjMn-"
      },
      "source": [
        "11047"
      ]
    },
    {
      "cell_type": "code",
      "metadata": {
        "id": "xzqyf_IxjL-C"
      },
      "source": [
        "N, K = map(int, input().split())\r\n",
        "coins = []\r\n",
        "for i in range(N):\r\n",
        "    coins.append(int(input()))\r\n",
        "\r\n",
        "cnt = 0\r\n",
        "for i in range(N-1, -1, -1):\r\n",
        "    if coins[i] <= K:\r\n",
        "        cnt += int(K/coins[i])\r\n",
        "        K %= coins[i]\r\n",
        "print(cnt)"
      ],
      "execution_count": null,
      "outputs": []
    },
    {
      "cell_type": "markdown",
      "metadata": {
        "id": "2S1YHwj9vvj6"
      },
      "source": [
        "1931"
      ]
    },
    {
      "cell_type": "code",
      "metadata": {
        "colab": {
          "base_uri": "https://localhost:8080/",
          "height": 204
        },
        "id": "qMfS3uEFoR1c",
        "outputId": "7eb679ba-3198-4633-d80f-032c8a3b9851"
      },
      "source": [
        "N = int(input())\r\n",
        "meetings = []\r\n",
        "\r\n",
        "for i in range(N):\r\n",
        "    meetings.append(list(map(int, input().split())))\r\n",
        "\r\n",
        "meetings = sorted(meetings, key=lambda x: (x[1], x[0]))\r\n",
        "last = 0\r\n",
        "cnt = 0\r\n",
        "for i, j in meetings:\r\n",
        "    if i >= last:\r\n",
        "        cnt += 1\r\n",
        "        last = j\r\n",
        "print(cnt)\r\n"
      ],
      "execution_count": 2,
      "outputs": [
        {
          "output_type": "error",
          "ename": "KeyError",
          "evalue": "ignored",
          "traceback": [
            "\u001b[0;31m---------------------------------------------------------------------------\u001b[0m",
            "\u001b[0;31mKeyError\u001b[0m                                  Traceback (most recent call last)",
            "\u001b[0;32m<ipython-input-2-8507357acfb2>\u001b[0m in \u001b[0;36m<module>\u001b[0;34m()\u001b[0m\n\u001b[1;32m      1\u001b[0m \u001b[0mdic\u001b[0m \u001b[0;34m=\u001b[0m \u001b[0mdict\u001b[0m\u001b[0;34m(\u001b[0m\u001b[0;34m)\u001b[0m\u001b[0;34m\u001b[0m\u001b[0;34m\u001b[0m\u001b[0m\n\u001b[1;32m      2\u001b[0m \u001b[0mdic\u001b[0m\u001b[0;34m[\u001b[0m\u001b[0;36m1\u001b[0m\u001b[0;34m]\u001b[0m \u001b[0;34m=\u001b[0m \u001b[0;36m1\u001b[0m\u001b[0;34m\u001b[0m\u001b[0;34m\u001b[0m\u001b[0m\n\u001b[0;32m----> 3\u001b[0;31m \u001b[0mprint\u001b[0m\u001b[0;34m(\u001b[0m\u001b[0mdic\u001b[0m\u001b[0;34m[\u001b[0m\u001b[0;36m2\u001b[0m\u001b[0;34m]\u001b[0m\u001b[0;34m)\u001b[0m\u001b[0;34m\u001b[0m\u001b[0;34m\u001b[0m\u001b[0m\n\u001b[0m",
            "\u001b[0;31mKeyError\u001b[0m: 2"
          ]
        }
      ]
    },
    {
      "cell_type": "code",
      "metadata": {
        "id": "m4ZxwMt2oXJG"
      },
      "source": [
        ""
      ],
      "execution_count": null,
      "outputs": []
    }
  ]
}