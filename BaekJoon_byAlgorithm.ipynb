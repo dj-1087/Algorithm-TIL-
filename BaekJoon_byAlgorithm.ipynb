{
  "nbformat": 4,
  "nbformat_minor": 0,
  "metadata": {
    "colab": {
      "name": "BaekJoon_byAlgorithm.ipynb",
      "provenance": [],
      "collapsed_sections": [],
      "authorship_tag": "ABX9TyOGlpQWUZNlN8HGaj54JGg1",
      "include_colab_link": true
    },
    "kernelspec": {
      "name": "python3",
      "display_name": "Python 3"
    }
  },
  "cells": [
    {
      "cell_type": "markdown",
      "metadata": {
        "id": "view-in-github",
        "colab_type": "text"
      },
      "source": [
        "<a href=\"https://colab.research.google.com/github/dj-1087/Algorithm-TIL-/blob/master/BaekJoon_byAlgorithm.ipynb\" target=\"_parent\"><img src=\"https://colab.research.google.com/assets/colab-badge.svg\" alt=\"Open In Colab\"/></a>"
      ]
    },
    {
      "cell_type": "code",
      "metadata": {
        "id": "02jn24Qjl3V3",
        "colab": {
          "base_uri": "https://localhost:8080/"
        },
        "outputId": "100f4935-fc0e-4bc9-d728-44d381dba1f4"
      },
      "source": [
        "from google.colab import auth\r\n",
        "auth.authenticate_user()\r\n",
        "from google.colab import drive\r\n",
        "drive.mount('/content/gdrive')"
      ],
      "execution_count": 26,
      "outputs": [
        {
          "output_type": "stream",
          "text": [
            "Drive already mounted at /content/gdrive; to attempt to forcibly remount, call drive.mount(\"/content/gdrive\", force_remount=True).\n"
          ],
          "name": "stdout"
        }
      ]
    },
    {
      "cell_type": "markdown",
      "metadata": {
        "id": "A3X5WKxCeZ9_"
      },
      "source": [
        "# 완전탐색"
      ]
    },
    {
      "cell_type": "markdown",
      "metadata": {
        "id": "-TDpTakJeiB1"
      },
      "source": [
        "2309"
      ]
    },
    {
      "cell_type": "code",
      "metadata": {
        "id": "VHtHUZnaUkdK"
      },
      "source": [
        "a = []\r\n",
        "for i in range(9):\r\n",
        "    a.append(int(input()))\r\n",
        "A = sum(a)\r\n",
        "x = 0\r\n",
        "y = 0\r\n",
        "for i in range(9):\r\n",
        "    for j in range(9):\r\n",
        "        if i == j:\r\n",
        "            continue\r\n",
        "        if A-a[i]-a[j] == 100:\r\n",
        "            x = a[i]\r\n",
        "            y = a[j]\r\n",
        "            break\r\n",
        "a.remove(x)\r\n",
        "a.remove(y)\r\n",
        "a.sort()\r\n",
        "for i in a:\r\n",
        "    print(i)"
      ],
      "execution_count": null,
      "outputs": []
    },
    {
      "cell_type": "markdown",
      "metadata": {
        "id": "c7bfyaX1w1wT"
      },
      "source": [
        "2231"
      ]
    },
    {
      "cell_type": "code",
      "metadata": {
        "id": "oCSxLiNfaZ7r"
      },
      "source": [
        "n = int(input())\r\n",
        "k = 0\r\n",
        "for i in range(n+1):\r\n",
        "    n_pred = i\r\n",
        "    for j in str(i):\r\n",
        "        n_pred += int(j)\r\n",
        "    if n_pred == n:\r\n",
        "        k = i\r\n",
        "        break\r\n",
        "print(k)\r\n"
      ],
      "execution_count": null,
      "outputs": []
    },
    {
      "cell_type": "markdown",
      "metadata": {
        "id": "TUxLS4aV2dqJ"
      },
      "source": [
        "3085"
      ]
    },
    {
      "cell_type": "code",
      "metadata": {
        "id": "boiNhB3MaFCd"
      },
      "source": [
        "def check(baord):\r\n",
        "    cnt = 1\r\n",
        "    for i in range(N):\r\n",
        "        cnt_row = 1\r\n",
        "        cnt_col = 1\r\n",
        "        for j in range(N-1):\r\n",
        "            if baord[i][j] == board[i][j+1]:\r\n",
        "                cnt_row += 1\r\n",
        "            else:\r\n",
        "                cnt = max(cnt, cnt_row)\r\n",
        "                cnt_row = 1\r\n",
        "            if board[j][i] == board[j+1][i]:\r\n",
        "                cnt_col += 1\r\n",
        "            else:\r\n",
        "                cnt = max(cnt, cnt_col)\r\n",
        "                cnt_col = 1\r\n",
        "        cnt = max(cnt, cnt_row, cnt_col)\r\n",
        "    return cnt\r\n",
        "\r\n",
        "\r\n",
        "N = int(input())\r\n",
        "board = [list(input()) for _ in range(N)]\r\n",
        "res = 0\r\n",
        "\r\n",
        "for i in range(N):\r\n",
        "    for j in range(N-1):\r\n",
        "        if board[i][j] != board[i][j+1]:\r\n",
        "            tmp = board[i][j]\r\n",
        "            board[i][j] = board[i][j+1]\r\n",
        "            board[i][j+1] = tmp\r\n",
        "\r\n",
        "            res = max(res, check(board))\r\n",
        "\r\n",
        "            tmp = board[i][j]\r\n",
        "            board[i][j] = board[i][j+1]\r\n",
        "            board[i][j+1] = tmp\r\n",
        "\r\n",
        "        if board[j][i] != board[j+1][i]:\r\n",
        "            tmp = board[j][i]\r\n",
        "            board[j][i] = board[j+1][i]\r\n",
        "            board[j+1][i] = tmp\r\n",
        "\r\n",
        "            res = max(res, check(board))\r\n",
        "\r\n",
        "            tmp = board[j][i]\r\n",
        "            board[j][i] = board[j+1][i]\r\n",
        "            board[j+1][i] = tmp\r\n",
        "\r\n",
        "print(res)"
      ],
      "execution_count": null,
      "outputs": []
    }
  ]
}