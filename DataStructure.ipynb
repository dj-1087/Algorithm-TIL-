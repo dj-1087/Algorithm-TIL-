{
  "nbformat": 4,
  "nbformat_minor": 0,
  "metadata": {
    "colab": {
      "name": "DataStructure.ipynb",
      "provenance": [],
      "collapsed_sections": [],
      "authorship_tag": "ABX9TyPwP9dcc+C8Ywxz6JW+HC8D",
      "include_colab_link": true
    },
    "kernelspec": {
      "name": "python3",
      "display_name": "Python 3"
    }
  },
  "cells": [
    {
      "cell_type": "markdown",
      "metadata": {
        "id": "view-in-github",
        "colab_type": "text"
      },
      "source": [
        "<a href=\"https://colab.research.google.com/github/dj-1087/Algorithm-TIL-/blob/master/DataStructure.ipynb\" target=\"_parent\"><img src=\"https://colab.research.google.com/assets/colab-badge.svg\" alt=\"Open In Colab\"/></a>"
      ]
    },
    {
      "cell_type": "code",
      "metadata": {
        "colab": {
          "base_uri": "https://localhost:8080/"
        },
        "id": "Dua8-lCTuGDT",
        "outputId": "5c4b77f9-8b82-4379-8f81-8fcd01f1dbb4"
      },
      "source": [
        "from google.colab import auth\r\n",
        "auth.authenticate_user()\r\n",
        "from google.colab import drive\r\n",
        "drive.mount('/content/gdrive')"
      ],
      "execution_count": null,
      "outputs": [
        {
          "output_type": "stream",
          "text": [
            "Drive already mounted at /content/gdrive; to attempt to forcibly remount, call drive.mount(\"/content/gdrive\", force_remount=True).\n"
          ],
          "name": "stdout"
        }
      ]
    },
    {
      "cell_type": "markdown",
      "metadata": {
        "id": "z809nZ-HuvcX"
      },
      "source": [
        "## Stack\r\n",
        "- push(data)\r\n",
        "- pop()"
      ]
    },
    {
      "cell_type": "code",
      "metadata": {
        "id": "GlVfbeYQuglD"
      },
      "source": [
        "class MyStack:\r\n",
        "    def __init__(self):\r\n",
        "        self.value = []\r\n",
        "\r\n",
        "    def push(self, data):\r\n",
        "        self.value.append(data)\r\n",
        "    \r\n",
        "    def pop(self):\r\n",
        "        data = self.value[-1]\r\n",
        "        del self.value[-1]\r\n",
        "        return data\r\n",
        "\r\n",
        "    def show(self):\r\n",
        "        print(self.value)"
      ],
      "execution_count": null,
      "outputs": []
    },
    {
      "cell_type": "code",
      "metadata": {
        "colab": {
          "base_uri": "https://localhost:8080/"
        },
        "id": "RAdhVYAmwTDD",
        "outputId": "eff020c8-d1ce-434e-ffd3-876494181e4f"
      },
      "source": [
        "stack = MyStack()\r\n",
        "for i in range(10):\r\n",
        "    stack.push(i)\r\n",
        "stack.show()\r\n",
        "stack.pop()\r\n",
        "stack.show()"
      ],
      "execution_count": null,
      "outputs": [
        {
          "output_type": "stream",
          "text": [
            "[0, 1, 2, 3, 4, 5, 6, 7, 8, 9]\n",
            "[0, 1, 2, 3, 4, 5, 6, 7, 8]\n"
          ],
          "name": "stdout"
        }
      ]
    },
    {
      "cell_type": "markdown",
      "metadata": {
        "id": "hP152S-7yM0x"
      },
      "source": [
        "## Queue\r\n",
        "- enqueue(data)\r\n",
        "- dequeue()"
      ]
    },
    {
      "cell_type": "code",
      "metadata": {
        "id": "R54ua-B5yXi9"
      },
      "source": [
        "class MyQueue:\r\n",
        "    def __init__(self):\r\n",
        "        self.value = []\r\n",
        "    \r\n",
        "    def enqueue(self, data):\r\n",
        "        self.value.append(data)\r\n",
        "    \r\n",
        "    def dequeue(self):\r\n",
        "        data = self.value[0]\r\n",
        "        del self.value[0]\r\n",
        "        return data\r\n",
        "    \r\n",
        "    def show(self):\r\n",
        "        print(self.value)"
      ],
      "execution_count": null,
      "outputs": []
    },
    {
      "cell_type": "code",
      "metadata": {
        "colab": {
          "base_uri": "https://localhost:8080/"
        },
        "id": "eZ2UiaH8zlxq",
        "outputId": "ac8dc23a-9086-45a1-8f0a-9efe09e6460f"
      },
      "source": [
        "queue = MyQueue()\r\n",
        "for i in range(10):\r\n",
        "    queue.enqueue(i)\r\n",
        "queue.show()\r\n",
        "queue.dequeue()\r\n",
        "queue.show()"
      ],
      "execution_count": null,
      "outputs": [
        {
          "output_type": "stream",
          "text": [
            "[0, 1, 2, 3, 4, 5, 6, 7, 8, 9]\n",
            "[1, 2, 3, 4, 5, 6, 7, 8, 9]\n"
          ],
          "name": "stdout"
        }
      ]
    },
    {
      "cell_type": "markdown",
      "metadata": {
        "id": "z7uLaEzB0jEs"
      },
      "source": [
        "### Priority Queue\r\n",
        "- enqueue(data, priority = 9999)\r\n",
        "- dequeue()"
      ]
    },
    {
      "cell_type": "code",
      "metadata": {
        "id": "9-I4-4Bk0uny"
      },
      "source": [
        "class PriorityQueue:\r\n",
        "    def __init__(self):\r\n",
        "        self.value = []\r\n",
        "        self.priority = []\r\n",
        "    \r\n",
        "    def enqueue(self, data, priority = 9999):\r\n",
        "        self.value.append(data)\r\n",
        "        self.priority.append(priority)\r\n",
        "    \r\n",
        "    def dequeue(self): #낮은 priority부터 dequeue, 같으면 FIFO\r\n",
        "        data_idx = 0\r\n",
        "        for i in range(len(self.priority)):\r\n",
        "            if self.priority[data_idx] > self.priority[i]:\r\n",
        "                data_idx = i\r\n",
        "        data = self.value[data_idx]\r\n",
        "        del self.value[data_idx]\r\n",
        "        del self.priority[data_idx]\r\n",
        "        return data\r\n",
        "    \r\n",
        "    def show(self):\r\n",
        "        print(f'value:   {self.value}\\npriority:{self.priority}')"
      ],
      "execution_count": null,
      "outputs": []
    },
    {
      "cell_type": "code",
      "metadata": {
        "colab": {
          "base_uri": "https://localhost:8080/"
        },
        "id": "v9P4Kddq3-bn",
        "outputId": "21c18868-eb22-4562-c0b9-6cb792d28a25"
      },
      "source": [
        "import random\r\n",
        "priority_queue = PriorityQueue()\r\n",
        "for i in range(10):\r\n",
        "    priority_queue.enqueue(i, int(random.random()*10))\r\n",
        "priority_queue.show()\r\n",
        "while priority_queue.value:\r\n",
        "    priority_queue.dequeue()\r\n",
        "    priority_queue.show()"
      ],
      "execution_count": null,
      "outputs": [
        {
          "output_type": "stream",
          "text": [
            "value:   [0, 1, 2, 3, 4, 5, 6, 7, 8, 9]\n",
            "priority:[3, 1, 5, 6, 4, 7, 3, 8, 3, 3]\n",
            "value:   [0, 2, 3, 4, 5, 6, 7, 8, 9]\n",
            "priority:[3, 5, 6, 4, 7, 3, 8, 3, 3]\n",
            "value:   [2, 3, 4, 5, 6, 7, 8, 9]\n",
            "priority:[5, 6, 4, 7, 3, 8, 3, 3]\n",
            "value:   [2, 3, 4, 5, 7, 8, 9]\n",
            "priority:[5, 6, 4, 7, 8, 3, 3]\n",
            "value:   [2, 3, 4, 5, 7, 9]\n",
            "priority:[5, 6, 4, 7, 8, 3]\n",
            "value:   [2, 3, 4, 5, 7]\n",
            "priority:[5, 6, 4, 7, 8]\n",
            "value:   [2, 3, 5, 7]\n",
            "priority:[5, 6, 7, 8]\n",
            "value:   [3, 5, 7]\n",
            "priority:[6, 7, 8]\n",
            "value:   [5, 7]\n",
            "priority:[7, 8]\n",
            "value:   [7]\n",
            "priority:[8]\n",
            "value:   []\n",
            "priority:[]\n"
          ],
          "name": "stdout"
        }
      ]
    },
    {
      "cell_type": "markdown",
      "metadata": {
        "id": "OBKe3lzxz_Ij"
      },
      "source": [
        "## Linked List\r\n"
      ]
    },
    {
      "cell_type": "markdown",
      "metadata": {
        "id": "V5rFkgC38HYE"
      },
      "source": [
        "### Single Linked List\r\n",
        "- Node, head\r\n",
        "- insert(data, )\r\n",
        "- delete()\r\n",
        "- search()"
      ]
    },
    {
      "cell_type": "code",
      "metadata": {
        "colab": {
          "base_uri": "https://localhost:8080/",
          "height": 169
        },
        "id": "RP8VCfXf0JWw",
        "outputId": "1038bebd-db6a-4294-ba9b-993f68d3ef7e"
      },
      "source": [
        ""
      ],
      "execution_count": null,
      "outputs": [
        {
          "output_type": "error",
          "ename": "TypeError",
          "evalue": "ignored",
          "traceback": [
            "\u001b[0;31m---------------------------------------------------------------------------\u001b[0m",
            "\u001b[0;31mTypeError\u001b[0m                                 Traceback (most recent call last)",
            "\u001b[0;32m<ipython-input-26-e4cb5d3260a8>\u001b[0m in \u001b[0;36m<module>\u001b[0;34m()\u001b[0m\n\u001b[0;32m----> 1\u001b[0;31m \u001b[0;36m1\u001b[0m\u001b[0;34m>\u001b[0m\u001b[0mint\u001b[0m\u001b[0;34m(\u001b[0m\u001b[0;32mNone\u001b[0m\u001b[0;34m)\u001b[0m\u001b[0;34m\u001b[0m\u001b[0;34m\u001b[0m\u001b[0m\n\u001b[0m",
            "\u001b[0;31mTypeError\u001b[0m: int() argument must be a string, a bytes-like object or a number, not 'NoneType'"
          ]
        }
      ]
    },
    {
      "cell_type": "code",
      "metadata": {
        "id": "gj1pdXoX2ia8"
      },
      "source": [
        ""
      ],
      "execution_count": null,
      "outputs": []
    },
    {
      "cell_type": "markdown",
      "metadata": {
        "id": "O9O6GNMG80GF"
      },
      "source": [
        "### Double Linked List\r\n",
        "### Single Linked List\r\n",
        "- Node, head, tail\r\n",
        "- insert()\r\n",
        "- insert_before()\r\n",
        "- delete()\r\n",
        "- delete_before()\r\n",
        "- search_from he()"
      ]
    },
    {
      "cell_type": "code",
      "metadata": {
        "id": "hwxKSxQA840k"
      },
      "source": [
        ""
      ],
      "execution_count": null,
      "outputs": []
    }
  ]
}