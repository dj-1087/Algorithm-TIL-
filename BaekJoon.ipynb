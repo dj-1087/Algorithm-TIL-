{
  "nbformat": 4,
  "nbformat_minor": 0,
  "metadata": {
    "colab": {
      "name": "BaekJoon.ipynb",
      "provenance": [],
      "collapsed_sections": [],
      "authorship_tag": "ABX9TyMuRuUrhmXWqLUz8lqWTcAc",
      "include_colab_link": true
    },
    "kernelspec": {
      "name": "python3",
      "display_name": "Python 3"
    }
  },
  "cells": [
    {
      "cell_type": "markdown",
      "metadata": {
        "id": "view-in-github",
        "colab_type": "text"
      },
      "source": [
        "<a href=\"https://colab.research.google.com/github/dj-1087/Algorithm-TIL-/blob/master/BaekJoon.ipynb\" target=\"_parent\"><img src=\"https://colab.research.google.com/assets/colab-badge.svg\" alt=\"Open In Colab\"/></a>"
      ]
    },
    {
      "cell_type": "markdown",
      "metadata": {
        "id": "MD5E38VJ1DXx"
      },
      "source": [
        "### 2557"
      ]
    },
    {
      "cell_type": "code",
      "metadata": {
        "colab": {
          "base_uri": "https://localhost:8080/"
        },
        "id": "ce_-O2jk008u",
        "outputId": "05287ac6-9673-4e7d-cb30-acdb912ca631"
      },
      "source": [
        "print(\"Hello World!\")"
      ],
      "execution_count": null,
      "outputs": [
        {
          "output_type": "stream",
          "text": [
            "Hello World!\n"
          ],
          "name": "stdout"
        }
      ]
    },
    {
      "cell_type": "markdown",
      "metadata": {
        "id": "Cq14ol9c1vsq"
      },
      "source": [
        "### 1000"
      ]
    },
    {
      "cell_type": "code",
      "metadata": {
        "colab": {
          "base_uri": "https://localhost:8080/"
        },
        "id": "jO2tKwhN1RLf",
        "outputId": "a7ea9b2a-0322-4c8d-a84c-5d4d1ebe01d2"
      },
      "source": [
        "a,b = map(int, input().split())\r\n",
        "print(a+b)"
      ],
      "execution_count": null,
      "outputs": [
        {
          "output_type": "stream",
          "text": [
            "1 2\n",
            "3\n"
          ],
          "name": "stdout"
        }
      ]
    },
    {
      "cell_type": "markdown",
      "metadata": {
        "id": "qZthuuqH6VlA"
      },
      "source": [
        "### 2558"
      ]
    },
    {
      "cell_type": "code",
      "metadata": {
        "colab": {
          "base_uri": "https://localhost:8080/"
        },
        "id": "VjLz7XnB6XLf",
        "outputId": "7216db13-d941-4d66-9321-06731ee1e444"
      },
      "source": [
        "a = int(input())\r\n",
        "b = int(input())\r\n",
        "print(a+b)"
      ],
      "execution_count": null,
      "outputs": [
        {
          "output_type": "stream",
          "text": [
            "1\n",
            "2\n",
            "3\n"
          ],
          "name": "stdout"
        }
      ]
    },
    {
      "cell_type": "markdown",
      "metadata": {
        "id": "EtptwM3q7YJJ"
      },
      "source": [
        "### 10950"
      ]
    },
    {
      "cell_type": "code",
      "metadata": {
        "colab": {
          "base_uri": "https://localhost:8080/"
        },
        "id": "ZaliZHXf7Zm3",
        "outputId": "0c17b0b9-8eb0-4200-a739-dca64365b348"
      },
      "source": [
        "cnt = int(input())\r\n",
        "result = [0 for i in range(cnt)]\r\n",
        "for i in range(cnt):\r\n",
        "    result[i] = sum(map(int, input().split()))\r\n",
        "for i in range(cnt):\r\n",
        "    print(result[i])"
      ],
      "execution_count": null,
      "outputs": [
        {
          "output_type": "stream",
          "text": [
            "5\n",
            "1 1\n",
            "2 3\n",
            "3 4\n",
            "9 8\n",
            "5 2\n",
            "2\n",
            "5\n",
            "7\n",
            "17\n",
            "7\n"
          ],
          "name": "stdout"
        }
      ]
    },
    {
      "cell_type": "markdown",
      "metadata": {
        "id": "1xR2T8McEuot"
      },
      "source": [
        "### 10951"
      ]
    },
    {
      "cell_type": "code",
      "metadata": {
        "id": "RNkawB5dJ4GJ"
      },
      "source": [
        "while(True):\r\n",
        "    try:\r\n",
        "        print(sum(map(int, input().split())))\r\n",
        "    except:\r\n",
        "        break"
      ],
      "execution_count": null,
      "outputs": []
    },
    {
      "cell_type": "markdown",
      "metadata": {
        "id": "P7_2yqGlJ42d"
      },
      "source": [
        "### 10952"
      ]
    },
    {
      "cell_type": "code",
      "metadata": {
        "colab": {
          "base_uri": "https://localhost:8080/"
        },
        "id": "Tqysudga8Bx8",
        "outputId": "90f134c5-8e57-4ca6-c09a-e27326fbc2ad"
      },
      "source": [
        "while(True):\r\n",
        "    a, b = map(int, input().split())\r\n",
        "    if(a==b & b==0):\r\n",
        "        break\r\n",
        "    print(a+b)"
      ],
      "execution_count": null,
      "outputs": [
        {
          "output_type": "stream",
          "text": [
            "1 1\n",
            "2\n",
            "2 3\n",
            "5\n",
            "3 4\n",
            "7\n",
            "9 8\n",
            "17\n",
            "5 2\n",
            "7\n",
            "0 0\n"
          ],
          "name": "stdout"
        }
      ]
    },
    {
      "cell_type": "markdown",
      "metadata": {
        "id": "e_KW1_2oRMP0"
      },
      "source": [
        "### 10953"
      ]
    },
    {
      "cell_type": "code",
      "metadata": {
        "colab": {
          "base_uri": "https://localhost:8080/"
        },
        "id": "gPqkDzO-RpSi",
        "outputId": "e6b387a5-e0e9-4dc9-f826-f43b78a96b52"
      },
      "source": [
        "t = int(input())\r\n",
        "for i in range(t):\r\n",
        "    a, b = map(int, input().split(\",\"))\r\n",
        "    print(a+b)"
      ],
      "execution_count": null,
      "outputs": [
        {
          "output_type": "stream",
          "text": [
            "5\n",
            "1, 1\n",
            "2\n",
            "2, 3\n",
            "5\n",
            "3, 4\n",
            "7\n",
            "9, 8\n",
            "17\n",
            "5, 2\n",
            "7\n"
          ],
          "name": "stdout"
        }
      ]
    },
    {
      "cell_type": "markdown",
      "metadata": {
        "id": "TiKiJIziTBr_"
      },
      "source": [
        "### 11021"
      ]
    },
    {
      "cell_type": "code",
      "metadata": {
        "id": "eh7l7vcGSLjz",
        "colab": {
          "base_uri": "https://localhost:8080/"
        },
        "outputId": "3cc053b0-e5df-4b0e-80f6-3e029a96932f"
      },
      "source": [
        "t = int(input())\r\n",
        "for i in range(t):\r\n",
        "    a, b = map(int,input().split())\r\n",
        "    print(f\"Case #{i+1}: {a+b}\")"
      ],
      "execution_count": null,
      "outputs": [
        {
          "output_type": "stream",
          "text": [
            "5\n",
            "1 1\n",
            "Case #1: 2\n",
            "2 3\n",
            "Case #2: 5\n",
            "3 4\n",
            "Case #3: 7\n",
            "9 8\n",
            "Case #4: 17\n",
            "5 2\n",
            "Case #5: 7\n"
          ],
          "name": "stdout"
        }
      ]
    },
    {
      "cell_type": "markdown",
      "metadata": {
        "id": "zZm3O02CWPuu"
      },
      "source": [
        "### 11022"
      ]
    },
    {
      "cell_type": "code",
      "metadata": {
        "colab": {
          "base_uri": "https://localhost:8080/"
        },
        "id": "yUyvZOEvTfyW",
        "outputId": "4f447927-74dd-423a-b6eb-f22cfa211f70"
      },
      "source": [
        "t = int(input())\r\n",
        "for i in range(t):\r\n",
        "    a, b = map(int,input().split())\r\n",
        "    print(f\"Case #{i+1}: {a} + {b} = {a+b}\")"
      ],
      "execution_count": null,
      "outputs": [
        {
          "output_type": "stream",
          "text": [
            "5\n",
            "1 1\n",
            "Case #1: 1 + 1 = 2\n",
            "2 3\n",
            "Case #2: 2 + 3 = 5\n",
            "3 4\n",
            "Case #3: 3 + 4 = 7\n",
            "4 5\n",
            "Case #4: 4 + 5 = 9\n",
            "5 2\n",
            "Case #5: 5 + 2 = 7\n"
          ],
          "name": "stdout"
        }
      ]
    },
    {
      "cell_type": "markdown",
      "metadata": {
        "id": "ZIDGvDyMXnjK"
      },
      "source": [
        "### 11718"
      ]
    },
    {
      "cell_type": "code",
      "metadata": {
        "colab": {
          "base_uri": "https://localhost:8080/",
          "height": 134
        },
        "id": "ghY6IChbUsrI",
        "outputId": "1842c43f-476a-49a8-e7fd-009b0f116a4c"
      },
      "source": [
        "while(True):\r\n",
        "    try:\r\n",
        "        print(input())\r\n",
        "    except:\r\n",
        "        break"
      ],
      "execution_count": null,
      "outputs": [
        {
          "output_type": "error",
          "ename": "SyntaxError",
          "evalue": "ignored",
          "traceback": [
            "\u001b[0;36m  File \u001b[0;32m\"<ipython-input-38-1dafa1bcbab2>\"\u001b[0;36m, line \u001b[0;32m4\u001b[0m\n\u001b[0;31m    e\u001b[0m\n\u001b[0m    ^\u001b[0m\n\u001b[0;31mSyntaxError\u001b[0m\u001b[0;31m:\u001b[0m invalid syntax\n"
          ]
        }
      ]
    },
    {
      "cell_type": "markdown",
      "metadata": {
        "id": "K5toQSjoadn8"
      },
      "source": [
        "### 11719"
      ]
    },
    {
      "cell_type": "code",
      "metadata": {
        "colab": {
          "base_uri": "https://localhost:8080/"
        },
        "id": "pl_YDhFtVcDJ",
        "outputId": "869c97dd-80ac-4fb5-c0ef-461e4b7357b9"
      },
      "source": [
        "while(True):\r\n",
        "    try:\r\n",
        "        print(input())\r\n",
        "    except:\r\n",
        "        break"
      ],
      "execution_count": null,
      "outputs": [
        {
          "output_type": "stream",
          "text": [
            "                Hello\n",
            "                Hello\n",
            "Baekjoon     \n",
            "Baekjoon     \n",
            "Baekjoon         Online Judge\n",
            "Baekjoon         Online Judge\n"
          ],
          "name": "stdout"
        }
      ]
    },
    {
      "cell_type": "markdown",
      "metadata": {
        "id": "6ZPORbrvc3mW"
      },
      "source": [
        "### 11720"
      ]
    },
    {
      "cell_type": "code",
      "metadata": {
        "colab": {
          "base_uri": "https://localhost:8080/"
        },
        "id": "wq6Fix5sajEX",
        "outputId": "1d626f86-eac6-4104-d47f-5f4ece50f2c2"
      },
      "source": [
        "cnt = int(input())\r\n",
        "n = input()[0:cnt]\r\n",
        "result = 0\r\n",
        "for i in range(cnt):\r\n",
        "    result += int(n[i])\r\n",
        "print(result)"
      ],
      "execution_count": null,
      "outputs": [
        {
          "output_type": "stream",
          "text": [
            "5\n",
            "54321234\n",
            "15\n"
          ],
          "name": "stdout"
        }
      ]
    },
    {
      "cell_type": "markdown",
      "metadata": {
        "id": "Rqr308rPejoW"
      },
      "source": [
        "### 11721"
      ]
    },
    {
      "cell_type": "code",
      "metadata": {
        "colab": {
          "base_uri": "https://localhost:8080/"
        },
        "id": "6cJ5WjTYdhTF",
        "outputId": "eb4950d7-a1c6-409d-d835-c965412db886"
      },
      "source": [
        "string = input()\r\n",
        "sub = \"\"\r\n",
        "for i in range(len(string)):\r\n",
        "    sub += string[i]\r\n",
        "    if(len(sub)==10):\r\n",
        "        print(sub)\r\n",
        "        sub = \"\"\r\n",
        "print(sub)"
      ],
      "execution_count": null,
      "outputs": [
        {
          "output_type": "stream",
          "text": [
            "BaekjoonOnlineJudge\n",
            "BaekjoonOn\n",
            "lineJudge\n"
          ],
          "name": "stdout"
        }
      ]
    },
    {
      "cell_type": "markdown",
      "metadata": {
        "id": "MzXWd64wg7Bl"
      },
      "source": [
        "### 2741"
      ]
    },
    {
      "cell_type": "code",
      "metadata": {
        "colab": {
          "base_uri": "https://localhost:8080/"
        },
        "id": "vDxZiPnHeqzC",
        "outputId": "6adb2b32-026a-4d92-db13-1220ca60722e"
      },
      "source": [
        "n = int(input())\r\n",
        "for i in range(n):\r\n",
        "    print(i+1)"
      ],
      "execution_count": null,
      "outputs": [
        {
          "output_type": "stream",
          "text": [
            "5\n",
            "1\n",
            "2\n",
            "3\n",
            "4\n",
            "5\n"
          ],
          "name": "stdout"
        }
      ]
    },
    {
      "cell_type": "markdown",
      "metadata": {
        "id": "bZPElze8iB-7"
      },
      "source": [
        "### 2742"
      ]
    },
    {
      "cell_type": "code",
      "metadata": {
        "colab": {
          "base_uri": "https://localhost:8080/"
        },
        "id": "f4ITKcjZhQph",
        "outputId": "183b9c0a-f37e-4f82-c6fb-c55fb26e9547"
      },
      "source": [
        "n = int(input())\r\n",
        "for i in range(n):\r\n",
        "    print(n-i)"
      ],
      "execution_count": null,
      "outputs": [
        {
          "output_type": "stream",
          "text": [
            "5\n",
            "5\n",
            "4\n",
            "3\n",
            "2\n",
            "1\n"
          ],
          "name": "stdout"
        }
      ]
    },
    {
      "cell_type": "markdown",
      "metadata": {
        "id": "__M7qMZWiVfd"
      },
      "source": [
        "### 2739"
      ]
    },
    {
      "cell_type": "code",
      "metadata": {
        "colab": {
          "base_uri": "https://localhost:8080/"
        },
        "id": "uPD75iGXiJY0",
        "outputId": "099139ed-63e1-42a7-f2ee-fe02f80f865e"
      },
      "source": [
        "n = int(input())\r\n",
        "for i in range(1,10):\r\n",
        "    print(f\"{n} * {i} = {n*i}\")"
      ],
      "execution_count": null,
      "outputs": [
        {
          "output_type": "stream",
          "text": [
            "2\n",
            "2 * 1 = 2\n",
            "2 * 2 = 4\n",
            "2 * 3 = 6\n",
            "2 * 4 = 8\n",
            "2 * 5 = 10\n",
            "2 * 6 = 12\n",
            "2 * 7 = 14\n",
            "2 * 8 = 16\n",
            "2 * 9 = 18\n"
          ],
          "name": "stdout"
        }
      ]
    },
    {
      "cell_type": "markdown",
      "metadata": {
        "id": "Z2ZSg1odnmGh"
      },
      "source": [
        "### 1924"
      ]
    },
    {
      "cell_type": "code",
      "metadata": {
        "colab": {
          "base_uri": "https://localhost:8080/"
        },
        "id": "aVd1ibCnjul1",
        "outputId": "7228466a-584a-4430-aa22-4607f3c37bf1"
      },
      "source": [
        "days = [31,28,31,30,31,30,31,31,30,31,30,31]\r\n",
        "week = [\"MON\",\"TUE\",\"WED\",\"THU\",\"FRI\",\"SAT\",\"SUN\"]\r\n",
        "m,d = map(int, input().split())\r\n",
        "for i in range(m-1):\r\n",
        "    d += days[i]\r\n",
        "week_idx = d%7\r\n",
        "print(week[int(week_idx-1)])"
      ],
      "execution_count": null,
      "outputs": [
        {
          "output_type": "stream",
          "text": [
            "12 25\n",
            "TUE\n"
          ],
          "name": "stdout"
        }
      ]
    },
    {
      "cell_type": "markdown",
      "metadata": {
        "id": "d1ToV1okvZm4"
      },
      "source": [
        "### 8393"
      ]
    },
    {
      "cell_type": "code",
      "metadata": {
        "colab": {
          "base_uri": "https://localhost:8080/"
        },
        "id": "ZShWRQFwqsLg",
        "outputId": "0da261c0-180d-4c3b-dfa1-0fbc42e9b7e3"
      },
      "source": [
        "sum = 0\r\n",
        "for i in range(int(input())):\r\n",
        "    sum += (i+1)\r\n",
        "print(sum)"
      ],
      "execution_count": null,
      "outputs": [
        {
          "output_type": "stream",
          "text": [
            "3\n",
            "6\n"
          ],
          "name": "stdout"
        }
      ]
    },
    {
      "cell_type": "markdown",
      "metadata": {
        "id": "BKUKhS_xv-Se"
      },
      "source": [
        "### 10818"
      ]
    },
    {
      "cell_type": "code",
      "metadata": {
        "colab": {
          "base_uri": "https://localhost:8080/"
        },
        "id": "P02shZQ9q0mP",
        "outputId": "630045ff-1463-43cb-c446-9ab56df69081"
      },
      "source": [
        "input()\r\n",
        "max = -1000001\r\n",
        "min = 1000001\r\n",
        "for i in map(int, input().split()):\r\n",
        "    if i>max:\r\n",
        "        max = i\r\n",
        "    if i<min:\r\n",
        "        min = i\r\n",
        "print(f\"{min} {max}\")"
      ],
      "execution_count": null,
      "outputs": [
        {
          "output_type": "stream",
          "text": [
            "5\n",
            "20 10 35 30 7\n",
            "7 35\n"
          ],
          "name": "stdout"
        }
      ]
    },
    {
      "cell_type": "markdown",
      "metadata": {
        "id": "LW1EMSphyVyB"
      },
      "source": [
        "### 2438"
      ]
    },
    {
      "cell_type": "code",
      "metadata": {
        "colab": {
          "base_uri": "https://localhost:8080/"
        },
        "id": "SpoQPokywwDR",
        "outputId": "d1a730e8-79f3-4640-f323-da7e5b967f47"
      },
      "source": [
        "n = int(input())\r\n",
        "for i in range(n):\r\n",
        "    print(\"*\"*(i+1))"
      ],
      "execution_count": null,
      "outputs": [
        {
          "output_type": "stream",
          "text": [
            "5\n",
            "*\n",
            "**\n",
            "***\n",
            "****\n",
            "*****\n"
          ],
          "name": "stdout"
        }
      ]
    },
    {
      "cell_type": "markdown",
      "metadata": {
        "id": "E3Rr2dzKzCYG"
      },
      "source": [
        "### 2439"
      ]
    },
    {
      "cell_type": "code",
      "metadata": {
        "colab": {
          "base_uri": "https://localhost:8080/"
        },
        "id": "zhFQA7eTy1uQ",
        "outputId": "061b614b-d51b-445b-c674-1fb893ee8cb8"
      },
      "source": [
        "n = int(input())\r\n",
        "for i in range(n):\r\n",
        "    print(\" \"*(n-i-1)+\"*\"*(i+1))"
      ],
      "execution_count": null,
      "outputs": [
        {
          "output_type": "stream",
          "text": [
            "5\n",
            "    *\n",
            "   **\n",
            "  ***\n",
            " ****\n",
            "*****\n"
          ],
          "name": "stdout"
        }
      ]
    },
    {
      "cell_type": "markdown",
      "metadata": {
        "id": "WQY0bb-w0Co5"
      },
      "source": [
        "### 2440"
      ]
    },
    {
      "cell_type": "code",
      "metadata": {
        "colab": {
          "base_uri": "https://localhost:8080/"
        },
        "id": "LUvLAqNRzf31",
        "outputId": "323e39eb-f537-4b57-ad88-dcee209fc6ae"
      },
      "source": [
        "n = int(input())\r\n",
        "for i in range(n):\r\n",
        "    print(\"*\"*(n-i))"
      ],
      "execution_count": null,
      "outputs": [
        {
          "output_type": "stream",
          "text": [
            "5\n",
            "*****\n",
            "****\n",
            "***\n",
            "**\n",
            "*\n"
          ],
          "name": "stdout"
        }
      ]
    },
    {
      "cell_type": "markdown",
      "metadata": {
        "id": "GMOFdKmf0npR"
      },
      "source": [
        "### 2441"
      ]
    },
    {
      "cell_type": "code",
      "metadata": {
        "id": "_LeVk7Ch0c87",
        "colab": {
          "base_uri": "https://localhost:8080/"
        },
        "outputId": "93b8c20b-1b7e-4b4b-e363-f7bb27195865"
      },
      "source": [
        "n = int(input())\r\n",
        "for i in range(n):\r\n",
        "    print(\" \"*i+\"*\"*(n-i))"
      ],
      "execution_count": 89,
      "outputs": [
        {
          "output_type": "stream",
          "text": [
            "5\n",
            "*****\n",
            " ****\n",
            "  ***\n",
            "   **\n",
            "    *\n"
          ],
          "name": "stdout"
        }
      ]
    },
    {
      "cell_type": "markdown",
      "metadata": {
        "id": "WlgwrO8j1fuv"
      },
      "source": [
        "### 2442"
      ]
    },
    {
      "cell_type": "code",
      "metadata": {
        "colab": {
          "base_uri": "https://localhost:8080/"
        },
        "id": "ZnoeZ-CE0-1E",
        "outputId": "fa7a8ae6-17e4-4b82-c72c-d2ec91fd84c6"
      },
      "source": [
        "n = int(input())\r\n",
        "for i in range(n):\r\n",
        "    print(\" \"*(n-i-1)+\"*\"*(2*i+1)+\" \")"
      ],
      "execution_count": 96,
      "outputs": [
        {
          "output_type": "stream",
          "text": [
            "5\n",
            "    * \n",
            "   *** \n",
            "  ***** \n",
            " ******* \n",
            "********* \n"
          ],
          "name": "stdout"
        }
      ]
    },
    {
      "cell_type": "markdown",
      "metadata": {
        "id": "zc23nSxC3_ts"
      },
      "source": [
        "### 2445"
      ]
    },
    {
      "cell_type": "code",
      "metadata": {
        "colab": {
          "base_uri": "https://localhost:8080/"
        },
        "id": "fv_zSwyp2PEJ",
        "outputId": "29517714-dbf4-404f-c2c3-4d3c39a9ce4c"
      },
      "source": [
        "n = int(input())\r\n",
        "for i in range(n):\r\n",
        "    print(\"*\"*(i+1)+\" \"*(2*n-2*i-2)+\"*\"*(i+1))\r\n",
        "for i in range(n):\r\n",
        "    print(\"*\"*(n-i-1)+\" \"*(2*i+2)+\"*\"*(n-i-1))"
      ],
      "execution_count": 104,
      "outputs": [
        {
          "output_type": "stream",
          "text": [
            "5\n",
            "*        *\n",
            "**      **\n",
            "***    ***\n",
            "****  ****\n",
            "**********\n",
            "****  ****\n",
            "***    ***\n",
            "**      **\n",
            "*        *\n",
            "          \n"
          ],
          "name": "stdout"
        }
      ]
    },
    {
      "cell_type": "markdown",
      "metadata": {
        "id": "MClnuwAo51yM"
      },
      "source": [
        "### 2522"
      ]
    },
    {
      "cell_type": "code",
      "metadata": {
        "colab": {
          "base_uri": "https://localhost:8080/"
        },
        "id": "JjE58-KV4dch",
        "outputId": "3b12c014-261a-4865-b6ba-9f2f2b009fa4"
      },
      "source": [
        "n = int(input())\r\n",
        "for i in range(n):\r\n",
        "    print(\" \"*(n-i-1)+\"*\"*(i+1))\r\n",
        "for i in range(n):\r\n",
        "    print(\" \"*(i+1)+\"*\"*(n-i-1))"
      ],
      "execution_count": 105,
      "outputs": [
        {
          "output_type": "stream",
          "text": [
            "5\n",
            "    *\n",
            "   **\n",
            "  ***\n",
            " ****\n",
            "*****\n",
            " ****\n",
            "  ***\n",
            "   **\n",
            "    *\n",
            "     \n"
          ],
          "name": "stdout"
        }
      ]
    },
    {
      "cell_type": "markdown",
      "metadata": {
        "id": "iy_golRu6gm4"
      },
      "source": [
        "### 2446"
      ]
    },
    {
      "cell_type": "code",
      "metadata": {
        "colab": {
          "base_uri": "https://localhost:8080/"
        },
        "id": "sl5YLg4s6T8H",
        "outputId": "42f403a0-3fa0-4c8c-d49b-a3aca981d8ba"
      },
      "source": [
        "n = int(input())\r\n",
        "for i in range(n):\r\n",
        "    print(\" \"*i+\"*\"*(2*n-2*i-1))\r\n",
        "for i in range(1,n):\r\n",
        "    print(\" \"*(n-i-1)+\"*\"*(2*i+1))"
      ],
      "execution_count": 112,
      "outputs": [
        {
          "output_type": "stream",
          "text": [
            "5\n",
            "*********\n",
            " *******\n",
            "  *****\n",
            "   ***\n",
            "    *\n",
            "   ***\n",
            "  *****\n",
            " *******\n",
            "*********\n"
          ],
          "name": "stdout"
        }
      ]
    },
    {
      "cell_type": "markdown",
      "metadata": {
        "id": "FWJpQyK98Gkt"
      },
      "source": [
        "### 10991"
      ]
    },
    {
      "cell_type": "code",
      "metadata": {
        "colab": {
          "base_uri": "https://localhost:8080/"
        },
        "id": "xU1vUO5968sH",
        "outputId": "b6ec0900-9f27-4fef-a171-2eaac58e833f"
      },
      "source": [
        "N = int(input())\r\n",
        "\r\n",
        "for i in range(1, N+1):\r\n",
        "    print(' '* (N-i), end = '')\r\n",
        "    for j in range(i): \r\n",
        "        print('*', end = ' ')\r\n",
        "    print()"
      ],
      "execution_count": 3,
      "outputs": [
        {
          "output_type": "stream",
          "text": [
            "5\n",
            "    * \n",
            "   * * \n",
            "  * * * \n",
            " * * * * \n",
            "* * * * * \n"
          ],
          "name": "stdout"
        }
      ]
    },
    {
      "cell_type": "markdown",
      "metadata": {
        "id": "kWxruisrJCmE"
      },
      "source": [
        "### 10992"
      ]
    },
    {
      "cell_type": "code",
      "metadata": {
        "colab": {
          "base_uri": "https://localhost:8080/"
        },
        "id": "V3BvnYdFHRNn",
        "outputId": "c6dc9cfb-c9cc-4014-d139-0232f343874d"
      },
      "source": [
        "N = int(input())\r\n",
        "for i in range(1,N+1):\r\n",
        "    if i==N:\r\n",
        "        print(\"*\"*(2*N-1))\r\n",
        "        break\r\n",
        "    if i==1:\r\n",
        "        print(\" \"*(N-i)+\"*\")\r\n",
        "        continue\r\n",
        "    print(\" \"*(N-i)+\"*\"+\" \"*(2*i-3)+\"*\")"
      ],
      "execution_count": 8,
      "outputs": [
        {
          "output_type": "stream",
          "text": [
            "5\n",
            "    *\n",
            "   * *\n",
            "  *   *\n",
            " *     *\n",
            "*********\n"
          ],
          "name": "stdout"
        }
      ]
    },
    {
      "cell_type": "markdown",
      "metadata": {
        "id": "pSmXncVqNtb-"
      },
      "source": [
        "### 1463"
      ]
    },
    {
      "cell_type": "code",
      "metadata": {
        "id": "B-gRFEyHLhCB"
      },
      "source": [
        ""
      ],
      "execution_count": null,
      "outputs": []
    }
  ]
}