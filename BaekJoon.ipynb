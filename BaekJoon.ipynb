{
  "nbformat": 4,
  "nbformat_minor": 0,
  "metadata": {
    "colab": {
      "name": "BaekJoon.ipynb",
      "provenance": [],
      "collapsed_sections": [],
      "authorship_tag": "ABX9TyMEnMWTHaabSXcc+C5Jagac",
      "include_colab_link": true
    },
    "kernelspec": {
      "name": "python3",
      "display_name": "Python 3"
    }
  },
  "cells": [
    {
      "cell_type": "markdown",
      "metadata": {
        "id": "view-in-github",
        "colab_type": "text"
      },
      "source": [
        "<a href=\"https://colab.research.google.com/github/dj-1087/Algorithm-TIL-/blob/master/BaekJoon.ipynb\" target=\"_parent\"><img src=\"https://colab.research.google.com/assets/colab-badge.svg\" alt=\"Open In Colab\"/></a>"
      ]
    },
    {
      "cell_type": "markdown",
      "metadata": {
        "id": "MD5E38VJ1DXx"
      },
      "source": [
        "### 2557"
      ]
    },
    {
      "cell_type": "code",
      "metadata": {
        "colab": {
          "base_uri": "https://localhost:8080/"
        },
        "id": "ce_-O2jk008u",
        "outputId": "05287ac6-9673-4e7d-cb30-acdb912ca631"
      },
      "source": [
        "print(\"Hello World!\")"
      ],
      "execution_count": null,
      "outputs": [
        {
          "output_type": "stream",
          "text": [
            "Hello World!\n"
          ],
          "name": "stdout"
        }
      ]
    },
    {
      "cell_type": "markdown",
      "metadata": {
        "id": "Cq14ol9c1vsq"
      },
      "source": [
        "### 1000"
      ]
    },
    {
      "cell_type": "code",
      "metadata": {
        "colab": {
          "base_uri": "https://localhost:8080/"
        },
        "id": "jO2tKwhN1RLf",
        "outputId": "a7ea9b2a-0322-4c8d-a84c-5d4d1ebe01d2"
      },
      "source": [
        "a,b = map(int, input().split())\r\n",
        "print(a+b)"
      ],
      "execution_count": null,
      "outputs": [
        {
          "output_type": "stream",
          "text": [
            "1 2\n",
            "3\n"
          ],
          "name": "stdout"
        }
      ]
    },
    {
      "cell_type": "markdown",
      "metadata": {
        "id": "qZthuuqH6VlA"
      },
      "source": [
        "### 2558"
      ]
    },
    {
      "cell_type": "code",
      "metadata": {
        "colab": {
          "base_uri": "https://localhost:8080/"
        },
        "id": "VjLz7XnB6XLf",
        "outputId": "7216db13-d941-4d66-9321-06731ee1e444"
      },
      "source": [
        "a = int(input())\r\n",
        "b = int(input())\r\n",
        "print(a+b)"
      ],
      "execution_count": null,
      "outputs": [
        {
          "output_type": "stream",
          "text": [
            "1\n",
            "2\n",
            "3\n"
          ],
          "name": "stdout"
        }
      ]
    },
    {
      "cell_type": "markdown",
      "metadata": {
        "id": "EtptwM3q7YJJ"
      },
      "source": [
        "### 10950"
      ]
    },
    {
      "cell_type": "code",
      "metadata": {
        "colab": {
          "base_uri": "https://localhost:8080/"
        },
        "id": "ZaliZHXf7Zm3",
        "outputId": "0c17b0b9-8eb0-4200-a739-dca64365b348"
      },
      "source": [
        "cnt = int(input())\r\n",
        "result = [0 for i in range(cnt)]\r\n",
        "for i in range(cnt):\r\n",
        "    result[i] = sum(map(int, input().split()))\r\n",
        "for i in range(cnt):\r\n",
        "    print(result[i])"
      ],
      "execution_count": null,
      "outputs": [
        {
          "output_type": "stream",
          "text": [
            "5\n",
            "1 1\n",
            "2 3\n",
            "3 4\n",
            "9 8\n",
            "5 2\n",
            "2\n",
            "5\n",
            "7\n",
            "17\n",
            "7\n"
          ],
          "name": "stdout"
        }
      ]
    },
    {
      "cell_type": "markdown",
      "metadata": {
        "id": "1xR2T8McEuot"
      },
      "source": [
        "### 10951"
      ]
    },
    {
      "cell_type": "code",
      "metadata": {
        "id": "RNkawB5dJ4GJ"
      },
      "source": [
        "while(True):\r\n",
        "    try:\r\n",
        "        print(sum(map(int, input().split())))\r\n",
        "    except:\r\n",
        "        break"
      ],
      "execution_count": null,
      "outputs": []
    },
    {
      "cell_type": "markdown",
      "metadata": {
        "id": "P7_2yqGlJ42d"
      },
      "source": [
        "### 10952"
      ]
    },
    {
      "cell_type": "code",
      "metadata": {
        "colab": {
          "base_uri": "https://localhost:8080/"
        },
        "id": "Tqysudga8Bx8",
        "outputId": "90f134c5-8e57-4ca6-c09a-e27326fbc2ad"
      },
      "source": [
        "while(True):\r\n",
        "    a, b = map(int, input().split())\r\n",
        "    if(a==b & b==0):\r\n",
        "        break\r\n",
        "    print(a+b)"
      ],
      "execution_count": null,
      "outputs": [
        {
          "output_type": "stream",
          "text": [
            "1 1\n",
            "2\n",
            "2 3\n",
            "5\n",
            "3 4\n",
            "7\n",
            "9 8\n",
            "17\n",
            "5 2\n",
            "7\n",
            "0 0\n"
          ],
          "name": "stdout"
        }
      ]
    },
    {
      "cell_type": "markdown",
      "metadata": {
        "id": "e_KW1_2oRMP0"
      },
      "source": [
        "### 10953"
      ]
    },
    {
      "cell_type": "code",
      "metadata": {
        "colab": {
          "base_uri": "https://localhost:8080/"
        },
        "id": "gPqkDzO-RpSi",
        "outputId": "e6b387a5-e0e9-4dc9-f826-f43b78a96b52"
      },
      "source": [
        "t = int(input())\r\n",
        "for i in range(t):\r\n",
        "    a, b = map(int, input().split(\",\"))\r\n",
        "    print(a+b)"
      ],
      "execution_count": null,
      "outputs": [
        {
          "output_type": "stream",
          "text": [
            "5\n",
            "1, 1\n",
            "2\n",
            "2, 3\n",
            "5\n",
            "3, 4\n",
            "7\n",
            "9, 8\n",
            "17\n",
            "5, 2\n",
            "7\n"
          ],
          "name": "stdout"
        }
      ]
    },
    {
      "cell_type": "markdown",
      "metadata": {
        "id": "TiKiJIziTBr_"
      },
      "source": [
        "### 11021"
      ]
    },
    {
      "cell_type": "code",
      "metadata": {
        "id": "eh7l7vcGSLjz",
        "colab": {
          "base_uri": "https://localhost:8080/"
        },
        "outputId": "3cc053b0-e5df-4b0e-80f6-3e029a96932f"
      },
      "source": [
        "t = int(input())\r\n",
        "for i in range(t):\r\n",
        "    a, b = map(int,input().split())\r\n",
        "    print(f\"Case #{i+1}: {a+b}\")"
      ],
      "execution_count": 34,
      "outputs": [
        {
          "output_type": "stream",
          "text": [
            "5\n",
            "1 1\n",
            "Case #1: 2\n",
            "2 3\n",
            "Case #2: 5\n",
            "3 4\n",
            "Case #3: 7\n",
            "9 8\n",
            "Case #4: 17\n",
            "5 2\n",
            "Case #5: 7\n"
          ],
          "name": "stdout"
        }
      ]
    },
    {
      "cell_type": "markdown",
      "metadata": {
        "id": "zZm3O02CWPuu"
      },
      "source": [
        "### 11022"
      ]
    },
    {
      "cell_type": "code",
      "metadata": {
        "colab": {
          "base_uri": "https://localhost:8080/"
        },
        "id": "yUyvZOEvTfyW",
        "outputId": "4f447927-74dd-423a-b6eb-f22cfa211f70"
      },
      "source": [
        "t = int(input())\r\n",
        "for i in range(t):\r\n",
        "    a, b = map(int,input().split())\r\n",
        "    print(f\"Case #{i+1}: {a} + {b} = {a+b}\")"
      ],
      "execution_count": 35,
      "outputs": [
        {
          "output_type": "stream",
          "text": [
            "5\n",
            "1 1\n",
            "Case #1: 1 + 1 = 2\n",
            "2 3\n",
            "Case #2: 2 + 3 = 5\n",
            "3 4\n",
            "Case #3: 3 + 4 = 7\n",
            "4 5\n",
            "Case #4: 4 + 5 = 9\n",
            "5 2\n",
            "Case #5: 5 + 2 = 7\n"
          ],
          "name": "stdout"
        }
      ]
    },
    {
      "cell_type": "markdown",
      "metadata": {
        "id": "ZIDGvDyMXnjK"
      },
      "source": [
        "### 11718"
      ]
    },
    {
      "cell_type": "code",
      "metadata": {
        "colab": {
          "base_uri": "https://localhost:8080/",
          "height": 134
        },
        "id": "ghY6IChbUsrI",
        "outputId": "1842c43f-476a-49a8-e7fd-009b0f116a4c"
      },
      "source": [
        "while(True):\r\n",
        "    try:\r\n",
        "        print(input())\r\n",
        "    except:\r\n",
        "        break"
      ],
      "execution_count": 38,
      "outputs": [
        {
          "output_type": "error",
          "ename": "SyntaxError",
          "evalue": "ignored",
          "traceback": [
            "\u001b[0;36m  File \u001b[0;32m\"<ipython-input-38-1dafa1bcbab2>\"\u001b[0;36m, line \u001b[0;32m4\u001b[0m\n\u001b[0;31m    e\u001b[0m\n\u001b[0m    ^\u001b[0m\n\u001b[0;31mSyntaxError\u001b[0m\u001b[0;31m:\u001b[0m invalid syntax\n"
          ]
        }
      ]
    },
    {
      "cell_type": "markdown",
      "metadata": {
        "id": "K5toQSjoadn8"
      },
      "source": [
        "### 11719"
      ]
    },
    {
      "cell_type": "code",
      "metadata": {
        "colab": {
          "base_uri": "https://localhost:8080/"
        },
        "id": "pl_YDhFtVcDJ",
        "outputId": "869c97dd-80ac-4fb5-c0ef-461e4b7357b9"
      },
      "source": [
        "while(True):\r\n",
        "    try:\r\n",
        "        print(input())\r\n",
        "    except:\r\n",
        "        break"
      ],
      "execution_count": 41,
      "outputs": [
        {
          "output_type": "stream",
          "text": [
            "                Hello\n",
            "                Hello\n",
            "Baekjoon     \n",
            "Baekjoon     \n",
            "Baekjoon         Online Judge\n",
            "Baekjoon         Online Judge\n"
          ],
          "name": "stdout"
        }
      ]
    },
    {
      "cell_type": "markdown",
      "metadata": {
        "id": "6ZPORbrvc3mW"
      },
      "source": [
        "### 11720"
      ]
    },
    {
      "cell_type": "code",
      "metadata": {
        "colab": {
          "base_uri": "https://localhost:8080/"
        },
        "id": "wq6Fix5sajEX",
        "outputId": "1d626f86-eac6-4104-d47f-5f4ece50f2c2"
      },
      "source": [
        "cnt = int(input())\r\n",
        "n = input()[0:cnt]\r\n",
        "result = 0\r\n",
        "for i in range(cnt):\r\n",
        "    result += int(n[i])\r\n",
        "print(result)"
      ],
      "execution_count": 45,
      "outputs": [
        {
          "output_type": "stream",
          "text": [
            "5\n",
            "54321234\n",
            "15\n"
          ],
          "name": "stdout"
        }
      ]
    },
    {
      "cell_type": "markdown",
      "metadata": {
        "id": "Rqr308rPejoW"
      },
      "source": [
        "### 11721"
      ]
    },
    {
      "cell_type": "code",
      "metadata": {
        "colab": {
          "base_uri": "https://localhost:8080/"
        },
        "id": "6cJ5WjTYdhTF",
        "outputId": "eb4950d7-a1c6-409d-d835-c965412db886"
      },
      "source": [
        "string = input()\r\n",
        "sub = \"\"\r\n",
        "for i in range(len(string)):\r\n",
        "    sub += string[i]\r\n",
        "    if(len(sub)==10):\r\n",
        "        print(sub)\r\n",
        "        sub = \"\"\r\n",
        "print(sub)"
      ],
      "execution_count": 52,
      "outputs": [
        {
          "output_type": "stream",
          "text": [
            "BaekjoonOnlineJudge\n",
            "BaekjoonOn\n",
            "lineJudge\n"
          ],
          "name": "stdout"
        }
      ]
    },
    {
      "cell_type": "markdown",
      "metadata": {
        "id": "MzXWd64wg7Bl"
      },
      "source": [
        "### 2741"
      ]
    },
    {
      "cell_type": "code",
      "metadata": {
        "colab": {
          "base_uri": "https://localhost:8080/"
        },
        "id": "vDxZiPnHeqzC",
        "outputId": "6adb2b32-026a-4d92-db13-1220ca60722e"
      },
      "source": [
        "n = int(input())\r\n",
        "for i in range(n):\r\n",
        "    print(i+1)"
      ],
      "execution_count": 53,
      "outputs": [
        {
          "output_type": "stream",
          "text": [
            "5\n",
            "1\n",
            "2\n",
            "3\n",
            "4\n",
            "5\n"
          ],
          "name": "stdout"
        }
      ]
    },
    {
      "cell_type": "code",
      "metadata": {
        "id": "f4ITKcjZhQph"
      },
      "source": [
        ""
      ],
      "execution_count": null,
      "outputs": []
    }
  ]
}